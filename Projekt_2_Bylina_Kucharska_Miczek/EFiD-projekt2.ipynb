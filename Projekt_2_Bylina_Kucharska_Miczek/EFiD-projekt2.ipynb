{
 "cells": [
  {
   "cell_type": "code",
   "execution_count": 639,
   "metadata": {
    "colab": {
     "base_uri": "https://localhost:8080/"
    },
    "collapsed": true,
    "id": "1giMbQ-5E8My",
    "outputId": "eac24daf-9e1f-43be-a241-2a3ad997cd9b"
   },
   "outputs": [],
   "source": [
    "# %pip install pmdarima\n",
    "# %pip install arch"
   ]
  },
  {
   "cell_type": "code",
   "execution_count": 640,
   "metadata": {
    "id": "bO4_N3DFP8w-"
   },
   "outputs": [],
   "source": [
    "import pandas as pd\n",
    "import numpy as np\n",
    "import matplotlib.pyplot as plt\n",
    "import matplotlib.dates as mdates\n",
    "import scipy\n",
    "import plotly.graph_objects as go\n",
    "from statsmodels.tsa.stattools import adfuller\n",
    "\n",
    "from statsmodels.graphics.tsaplots import plot_pacf\n",
    "from statsmodels.graphics.tsaplots import plot_acf\n",
    "\n",
    "from pmdarima import auto_arima\n",
    "from statsmodels.tsa.arima.model import ARIMA\n",
    "from arch import arch_model\n",
    "\n",
    "# ignore warnings   \n",
    "import warnings\n",
    "warnings.filterwarnings('ignore')"
   ]
  },
  {
   "cell_type": "code",
   "execution_count": 641,
   "metadata": {
    "colab": {
     "base_uri": "https://localhost:8080/",
     "height": 424
    },
    "id": "oPGAqRd8Qo5o",
    "outputId": "99bdd101-f3bd-480d-fb0a-5fbd5bebdd8c"
   },
   "outputs": [
    {
     "data": {
      "text/html": [
       "<div>\n",
       "<style scoped>\n",
       "    .dataframe tbody tr th:only-of-type {\n",
       "        vertical-align: middle;\n",
       "    }\n",
       "\n",
       "    .dataframe tbody tr th {\n",
       "        vertical-align: top;\n",
       "    }\n",
       "\n",
       "    .dataframe thead th {\n",
       "        text-align: right;\n",
       "    }\n",
       "</style>\n",
       "<table border=\"1\" class=\"dataframe\">\n",
       "  <thead>\n",
       "    <tr style=\"text-align: right;\">\n",
       "      <th></th>\n",
       "      <th>Data</th>\n",
       "      <th>Otwarcie</th>\n",
       "      <th>Najwyzszy</th>\n",
       "      <th>Najnizszy</th>\n",
       "      <th>Zamkniecie</th>\n",
       "      <th>Wolumen</th>\n",
       "    </tr>\n",
       "  </thead>\n",
       "  <tbody>\n",
       "    <tr>\n",
       "      <th>0</th>\n",
       "      <td>2023-09-01</td>\n",
       "      <td>29.3472</td>\n",
       "      <td>29.3472</td>\n",
       "      <td>28.6122</td>\n",
       "      <td>28.6489</td>\n",
       "      <td>876.120358</td>\n",
       "    </tr>\n",
       "    <tr>\n",
       "      <th>1</th>\n",
       "      <td>2023-09-04</td>\n",
       "      <td>28.6673</td>\n",
       "      <td>28.9797</td>\n",
       "      <td>28.6489</td>\n",
       "      <td>28.7959</td>\n",
       "      <td>638.860435</td>\n",
       "    </tr>\n",
       "    <tr>\n",
       "      <th>2</th>\n",
       "      <td>2023-09-05</td>\n",
       "      <td>28.6857</td>\n",
       "      <td>28.9797</td>\n",
       "      <td>28.5387</td>\n",
       "      <td>28.9429</td>\n",
       "      <td>1267.925736</td>\n",
       "    </tr>\n",
       "    <tr>\n",
       "      <th>3</th>\n",
       "      <td>2023-09-06</td>\n",
       "      <td>28.9981</td>\n",
       "      <td>28.9981</td>\n",
       "      <td>28.4835</td>\n",
       "      <td>28.7592</td>\n",
       "      <td>4692.957746</td>\n",
       "    </tr>\n",
       "    <tr>\n",
       "      <th>4</th>\n",
       "      <td>2023-09-07</td>\n",
       "      <td>28.5938</td>\n",
       "      <td>29.4024</td>\n",
       "      <td>26.8664</td>\n",
       "      <td>29.3656</td>\n",
       "      <td>14380.345710</td>\n",
       "    </tr>\n",
       "    <tr>\n",
       "      <th>...</th>\n",
       "      <td>...</td>\n",
       "      <td>...</td>\n",
       "      <td>...</td>\n",
       "      <td>...</td>\n",
       "      <td>...</td>\n",
       "      <td>...</td>\n",
       "    </tr>\n",
       "    <tr>\n",
       "      <th>267</th>\n",
       "      <td>2024-09-24</td>\n",
       "      <td>28.5200</td>\n",
       "      <td>29.0000</td>\n",
       "      <td>28.5200</td>\n",
       "      <td>28.7400</td>\n",
       "      <td>41614.000000</td>\n",
       "    </tr>\n",
       "    <tr>\n",
       "      <th>268</th>\n",
       "      <td>2024-09-25</td>\n",
       "      <td>28.9800</td>\n",
       "      <td>28.9800</td>\n",
       "      <td>28.5400</td>\n",
       "      <td>28.6400</td>\n",
       "      <td>63116.000000</td>\n",
       "    </tr>\n",
       "    <tr>\n",
       "      <th>269</th>\n",
       "      <td>2024-09-26</td>\n",
       "      <td>28.7000</td>\n",
       "      <td>28.9800</td>\n",
       "      <td>28.7000</td>\n",
       "      <td>28.7400</td>\n",
       "      <td>1516.000000</td>\n",
       "    </tr>\n",
       "    <tr>\n",
       "      <th>270</th>\n",
       "      <td>2024-09-27</td>\n",
       "      <td>29.0000</td>\n",
       "      <td>29.1000</td>\n",
       "      <td>28.8200</td>\n",
       "      <td>29.0400</td>\n",
       "      <td>398.000000</td>\n",
       "    </tr>\n",
       "    <tr>\n",
       "      <th>271</th>\n",
       "      <td>2024-09-30</td>\n",
       "      <td>29.2800</td>\n",
       "      <td>29.2800</td>\n",
       "      <td>28.3000</td>\n",
       "      <td>28.9000</td>\n",
       "      <td>794.000000</td>\n",
       "    </tr>\n",
       "  </tbody>\n",
       "</table>\n",
       "<p>272 rows × 6 columns</p>\n",
       "</div>"
      ],
      "text/plain": [
       "           Data  Otwarcie  Najwyzszy  Najnizszy  Zamkniecie       Wolumen\n",
       "0    2023-09-01   29.3472    29.3472    28.6122     28.6489    876.120358\n",
       "1    2023-09-04   28.6673    28.9797    28.6489     28.7959    638.860435\n",
       "2    2023-09-05   28.6857    28.9797    28.5387     28.9429   1267.925736\n",
       "3    2023-09-06   28.9981    28.9981    28.4835     28.7592   4692.957746\n",
       "4    2023-09-07   28.5938    29.4024    26.8664     29.3656  14380.345710\n",
       "..          ...       ...        ...        ...         ...           ...\n",
       "267  2024-09-24   28.5200    29.0000    28.5200     28.7400  41614.000000\n",
       "268  2024-09-25   28.9800    28.9800    28.5400     28.6400  63116.000000\n",
       "269  2024-09-26   28.7000    28.9800    28.7000     28.7400   1516.000000\n",
       "270  2024-09-27   29.0000    29.1000    28.8200     29.0400    398.000000\n",
       "271  2024-09-30   29.2800    29.2800    28.3000     28.9000    794.000000\n",
       "\n",
       "[272 rows x 6 columns]"
      ]
     },
     "metadata": {},
     "output_type": "display_data"
    }
   ],
   "source": [
    "#data = pd.read_csv(\"mol_d.csv\", usecols=['Data', 'Zamkniecie'])\n",
    "data = pd.read_csv(\"mol_d.csv\")\n",
    "df = pd.DataFrame(data)\n",
    "df_copy = df.copy()\n",
    "display(df)"
   ]
  },
  {
   "cell_type": "code",
   "execution_count": 642,
   "metadata": {
    "colab": {
     "base_uri": "https://localhost:8080/",
     "height": 455
    },
    "id": "XUWQCW0oQy3n",
    "outputId": "a37be42b-aa33-4c01-80a3-512d7a2879ff"
   },
   "outputs": [
    {
     "data": {
      "text/html": [
       "<div>\n",
       "<style scoped>\n",
       "    .dataframe tbody tr th:only-of-type {\n",
       "        vertical-align: middle;\n",
       "    }\n",
       "\n",
       "    .dataframe tbody tr th {\n",
       "        vertical-align: top;\n",
       "    }\n",
       "\n",
       "    .dataframe thead th {\n",
       "        text-align: right;\n",
       "    }\n",
       "</style>\n",
       "<table border=\"1\" class=\"dataframe\">\n",
       "  <thead>\n",
       "    <tr style=\"text-align: right;\">\n",
       "      <th></th>\n",
       "      <th>Otwarcie</th>\n",
       "      <th>Najwyzszy</th>\n",
       "      <th>Najnizszy</th>\n",
       "      <th>Zamkniecie</th>\n",
       "      <th>Wolumen</th>\n",
       "      <th>Stopa zwrotu</th>\n",
       "      <th>Logarytm ceny</th>\n",
       "      <th>Logarytm stopy zwrotu</th>\n",
       "    </tr>\n",
       "    <tr>\n",
       "      <th>Data</th>\n",
       "      <th></th>\n",
       "      <th></th>\n",
       "      <th></th>\n",
       "      <th></th>\n",
       "      <th></th>\n",
       "      <th></th>\n",
       "      <th></th>\n",
       "      <th></th>\n",
       "    </tr>\n",
       "  </thead>\n",
       "  <tbody>\n",
       "    <tr>\n",
       "      <th>2023-09-01</th>\n",
       "      <td>29.3472</td>\n",
       "      <td>29.3472</td>\n",
       "      <td>28.6122</td>\n",
       "      <td>28.6489</td>\n",
       "      <td>876.120358</td>\n",
       "      <td>NaN</td>\n",
       "      <td>3.355115</td>\n",
       "      <td>NaN</td>\n",
       "    </tr>\n",
       "    <tr>\n",
       "      <th>2023-09-04</th>\n",
       "      <td>28.6673</td>\n",
       "      <td>28.9797</td>\n",
       "      <td>28.6489</td>\n",
       "      <td>28.7959</td>\n",
       "      <td>638.860435</td>\n",
       "      <td>0.005131</td>\n",
       "      <td>3.360233</td>\n",
       "      <td>0.005118</td>\n",
       "    </tr>\n",
       "    <tr>\n",
       "      <th>2023-09-05</th>\n",
       "      <td>28.6857</td>\n",
       "      <td>28.9797</td>\n",
       "      <td>28.5387</td>\n",
       "      <td>28.9429</td>\n",
       "      <td>1267.925736</td>\n",
       "      <td>0.005105</td>\n",
       "      <td>3.365325</td>\n",
       "      <td>0.005092</td>\n",
       "    </tr>\n",
       "    <tr>\n",
       "      <th>2023-09-06</th>\n",
       "      <td>28.9981</td>\n",
       "      <td>28.9981</td>\n",
       "      <td>28.4835</td>\n",
       "      <td>28.7592</td>\n",
       "      <td>4692.957746</td>\n",
       "      <td>-0.006347</td>\n",
       "      <td>3.358958</td>\n",
       "      <td>-0.006367</td>\n",
       "    </tr>\n",
       "    <tr>\n",
       "      <th>2023-09-07</th>\n",
       "      <td>28.5938</td>\n",
       "      <td>29.4024</td>\n",
       "      <td>26.8664</td>\n",
       "      <td>29.3656</td>\n",
       "      <td>14380.345710</td>\n",
       "      <td>0.021085</td>\n",
       "      <td>3.379824</td>\n",
       "      <td>0.020866</td>\n",
       "    </tr>\n",
       "    <tr>\n",
       "      <th>...</th>\n",
       "      <td>...</td>\n",
       "      <td>...</td>\n",
       "      <td>...</td>\n",
       "      <td>...</td>\n",
       "      <td>...</td>\n",
       "      <td>...</td>\n",
       "      <td>...</td>\n",
       "      <td>...</td>\n",
       "    </tr>\n",
       "    <tr>\n",
       "      <th>2024-09-24</th>\n",
       "      <td>28.5200</td>\n",
       "      <td>29.0000</td>\n",
       "      <td>28.5200</td>\n",
       "      <td>28.7400</td>\n",
       "      <td>41614.000000</td>\n",
       "      <td>0.007714</td>\n",
       "      <td>3.358290</td>\n",
       "      <td>0.007684</td>\n",
       "    </tr>\n",
       "    <tr>\n",
       "      <th>2024-09-25</th>\n",
       "      <td>28.9800</td>\n",
       "      <td>28.9800</td>\n",
       "      <td>28.5400</td>\n",
       "      <td>28.6400</td>\n",
       "      <td>63116.000000</td>\n",
       "      <td>-0.003479</td>\n",
       "      <td>3.354804</td>\n",
       "      <td>-0.003486</td>\n",
       "    </tr>\n",
       "    <tr>\n",
       "      <th>2024-09-26</th>\n",
       "      <td>28.7000</td>\n",
       "      <td>28.9800</td>\n",
       "      <td>28.7000</td>\n",
       "      <td>28.7400</td>\n",
       "      <td>1516.000000</td>\n",
       "      <td>0.003492</td>\n",
       "      <td>3.358290</td>\n",
       "      <td>0.003486</td>\n",
       "    </tr>\n",
       "    <tr>\n",
       "      <th>2024-09-27</th>\n",
       "      <td>29.0000</td>\n",
       "      <td>29.1000</td>\n",
       "      <td>28.8200</td>\n",
       "      <td>29.0400</td>\n",
       "      <td>398.000000</td>\n",
       "      <td>0.010438</td>\n",
       "      <td>3.368674</td>\n",
       "      <td>0.010384</td>\n",
       "    </tr>\n",
       "    <tr>\n",
       "      <th>2024-09-30</th>\n",
       "      <td>29.2800</td>\n",
       "      <td>29.2800</td>\n",
       "      <td>28.3000</td>\n",
       "      <td>28.9000</td>\n",
       "      <td>794.000000</td>\n",
       "      <td>-0.004821</td>\n",
       "      <td>3.363842</td>\n",
       "      <td>-0.004833</td>\n",
       "    </tr>\n",
       "  </tbody>\n",
       "</table>\n",
       "<p>272 rows × 8 columns</p>\n",
       "</div>"
      ],
      "text/plain": [
       "            Otwarcie  Najwyzszy  Najnizszy  Zamkniecie       Wolumen  \\\n",
       "Data                                                                   \n",
       "2023-09-01   29.3472    29.3472    28.6122     28.6489    876.120358   \n",
       "2023-09-04   28.6673    28.9797    28.6489     28.7959    638.860435   \n",
       "2023-09-05   28.6857    28.9797    28.5387     28.9429   1267.925736   \n",
       "2023-09-06   28.9981    28.9981    28.4835     28.7592   4692.957746   \n",
       "2023-09-07   28.5938    29.4024    26.8664     29.3656  14380.345710   \n",
       "...              ...        ...        ...         ...           ...   \n",
       "2024-09-24   28.5200    29.0000    28.5200     28.7400  41614.000000   \n",
       "2024-09-25   28.9800    28.9800    28.5400     28.6400  63116.000000   \n",
       "2024-09-26   28.7000    28.9800    28.7000     28.7400   1516.000000   \n",
       "2024-09-27   29.0000    29.1000    28.8200     29.0400    398.000000   \n",
       "2024-09-30   29.2800    29.2800    28.3000     28.9000    794.000000   \n",
       "\n",
       "            Stopa zwrotu  Logarytm ceny  Logarytm stopy zwrotu  \n",
       "Data                                                            \n",
       "2023-09-01           NaN       3.355115                    NaN  \n",
       "2023-09-04      0.005131       3.360233               0.005118  \n",
       "2023-09-05      0.005105       3.365325               0.005092  \n",
       "2023-09-06     -0.006347       3.358958              -0.006367  \n",
       "2023-09-07      0.021085       3.379824               0.020866  \n",
       "...                  ...            ...                    ...  \n",
       "2024-09-24      0.007714       3.358290               0.007684  \n",
       "2024-09-25     -0.003479       3.354804              -0.003486  \n",
       "2024-09-26      0.003492       3.358290               0.003486  \n",
       "2024-09-27      0.010438       3.368674               0.010384  \n",
       "2024-09-30     -0.004821       3.363842              -0.004833  \n",
       "\n",
       "[272 rows x 8 columns]"
      ]
     },
     "metadata": {},
     "output_type": "display_data"
    }
   ],
   "source": [
    "df['Data'] = pd.to_datetime(df['Data'])\n",
    "df = df.set_index('Data')\n",
    "df['Stopa zwrotu'] = df['Zamkniecie'].pct_change()\n",
    "df['Logarytm ceny'] = np.log(df['Zamkniecie'])\n",
    "df['Logarytm stopy zwrotu'] = np.log(1 + df['Stopa zwrotu'])\n",
    "display(df)"
   ]
  },
  {
   "cell_type": "code",
   "execution_count": 643,
   "metadata": {},
   "outputs": [
    {
     "data": {
      "image/png": "[encoded data removed]",
      "text/plain": [
       "<Figure size 1000x600 with 1 Axes>"
      ]
     },
     "metadata": {},
     "output_type": "display_data"
    }
   ],
   "source": [
    "df['Zamkniecie'].plot(title=\"Wykres cen akcji spółki MOL \", figsize=(10, 6), ylabel=\"Wartość Zamknięcia\")\n",
    "plt.tight_layout()\n",
    "plt.show()"
   ]
  },
  {
   "cell_type": "code",
   "execution_count": 644,
   "metadata": {},
   "outputs": [
    {
     "data": {
      "application/vnd.plotly.v1+json": {
       "config": {
        "plotlyServerURL": "https://plot.ly"
       },
       "data": [
        {
         "close": [
          28.6489,
          28.7959,
          28.9429,
          28.7592,
          29.3656,
          29.1267,
          29.9536,
          30.0639,
          30.0272,
          30.2293,
          30.4314,
          30.3579,
          30.5784,
          30.9644,
          30.5049,
          30.5049,
          30.0639,
          29.7883,
          30.652,
          30.1374,
          30.3212,
          29.9169,
          30.2293,
          29.8801,
          30.3028,
          30.2109,
          30.3028,
          29.9536,
          30.2109,
          29.9536,
          29.8985,
          30.1742,
          30.8541,
          30.946,
          30.8908,
          30.8908,
          30.8725,
          30.8725,
          30.3763,
          30.3212,
          30.799,
          31.0011,
          30.6703,
          30.8173,
          31.2216,
          31.1297,
          31.5156,
          31.1114,
          30.9092,
          30.6887,
          30.4682,
          30.3396,
          30.6152,
          30.5049,
          29.9536,
          29.4207,
          30.266,
          29.2002,
          29.1818,
          28.7776,
          28.7224,
          29.4024,
          29.4024,
          29.4024,
          29.2186,
          29.0716,
          29.2186,
          29.4024,
          29.384,
          29.237,
          28.8327,
          29.1818,
          28.9429,
          29.3472,
          29.237,
          29.384,
          29.2737,
          29.4942,
          29.3288,
          29.3656,
          29.2737,
          29.6412,
          29.4024,
          29.3656,
          29.4575,
          29.4024,
          29.4942,
          29.4942,
          29.6964,
          29.8985,
          29.6596,
          29.8066,
          29.8618,
          29.7883,
          29.7699,
          29.7699,
          29.678,
          29.678,
          29.5861,
          29.678,
          29.6412,
          29.5861,
          29.384,
          30.5968,
          29.8801,
          30.1374,
          30.3028,
          29.8618,
          29.8801,
          29.6964,
          29.5126,
          29.6596,
          29.8434,
          30.0088,
          29.825,
          30.1925,
          30.2109,
          30.2477,
          30.0823,
          30.3763,
          30.0088,
          30.0272,
          29.7515,
          29.5494,
          29.3656,
          29.2553,
          29.4024,
          28.9429,
          29.0716,
          29.2186,
          29.4024,
          29.2921,
          29.0532,
          29.0532,
          29.0348,
          29.2186,
          29.2737,
          29.678,
          29.6964,
          29.7515,
          29.5677,
          29.3105,
          29.0716,
          29.2737,
          29.4024,
          29.7699,
          29.5126,
          30.5049,
          30.4498,
          30.3396,
          30.3579,
          30.6703,
          30.4131,
          30.5233,
          30.3579,
          30.6887,
          30.5417,
          30.7806,
          30.6887,
          29.9169,
          29.9904,
          29.6229,
          30.6152,
          30.4131,
          30.3947,
          30.5601,
          30.799,
          30.652,
          30.652,
          30.7806,
          31.0379,
          30.8725,
          31.2032,
          31.4605,
          31.2768,
          31.1481,
          31.24,
          31.24,
          31.4973,
          31.3319,
          31.387,
          31.24,
          31.6,
          31.6,
          31.3,
          31.56,
          31,
          30.9,
          30.82,
          30.88,
          31.04,
          31.54,
          31.44,
          31.6,
          31.5,
          31.26,
          30.76,
          30.86,
          31.1,
          31.26,
          30.86,
          31.2,
          31.26,
          31.04,
          30.9,
          31,
          31.2,
          31.7,
          31.8,
          31.76,
          32.74,
          32.1,
          31.3,
          31.02,
          30.88,
          30.9,
          31,
          31.02,
          30.82,
          31.3,
          31.4,
          31.4,
          31.46,
          31.24,
          31.06,
          30.86,
          30.88,
          30.96,
          30.68,
          30.8,
          30.58,
          30.4,
          29.7,
          29.8,
          29.94,
          30,
          30.32,
          30,
          30.54,
          30.02,
          29.8,
          29.92,
          29.98,
          30.1,
          29.7,
          29.94,
          29.94,
          29.82,
          29.8,
          29.8,
          29.2,
          29.4,
          29.5,
          29.6,
          29.18,
          29.04,
          28.7,
          28.7,
          28.4,
          28.36,
          28.8,
          28.96,
          28.54,
          28.56,
          28.78,
          28.32,
          28.52,
          28.74,
          28.64,
          28.74,
          29.04,
          28.9
         ],
         "high": [
          29.3472,
          28.9797,
          28.9797,
          28.9981,
          29.4024,
          29.4024,
          30.0455,
          30.0823,
          30.1374,
          30.2293,
          30.4314,
          30.6887,
          31.0562,
          31.3686,
          31.1481,
          31.1297,
          30.7806,
          30.2293,
          30.7622,
          30.6703,
          30.6703,
          30.6887,
          30.4866,
          30.266,
          30.3212,
          30.3212,
          30.3763,
          30.3028,
          30.2477,
          30.2109,
          30.1925,
          30.1925,
          30.8541,
          31.093,
          30.8908,
          30.8908,
          31.0379,
          31.0379,
          30.9276,
          30.8725,
          31.24,
          31.1114,
          31.0011,
          30.9644,
          31.24,
          31.3135,
          31.6075,
          31.4238,
          31.5892,
          31.1849,
          30.946,
          30.5601,
          30.8173,
          30.7622,
          30.3947,
          30.1742,
          30.266,
          30.652,
          29.2921,
          29.2186,
          29.1083,
          29.8066,
          29.6596,
          29.4759,
          29.4024,
          29.4024,
          29.4024,
          29.4024,
          29.4942,
          29.384,
          29.2553,
          29.1818,
          29.1818,
          29.4024,
          29.4207,
          29.4024,
          29.4024,
          29.6045,
          29.4942,
          29.531,
          29.5126,
          29.6412,
          29.825,
          29.678,
          29.678,
          29.5861,
          29.8801,
          30.0088,
          30.0088,
          29.9536,
          29.9536,
          30.2109,
          30.0272,
          29.9536,
          29.9169,
          29.7699,
          29.9169,
          29.8985,
          29.7515,
          29.7331,
          29.8434,
          29.7331,
          29.7883,
          30.5968,
          30.2844,
          30.3947,
          30.3212,
          30.3028,
          30.1007,
          30.2293,
          30.0088,
          29.7699,
          29.9536,
          30.0272,
          30.0088,
          30.4682,
          30.8357,
          30.6887,
          30.652,
          30.4682,
          30.3763,
          30.266,
          30.0272,
          30.1742,
          29.5861,
          29.678,
          29.6596,
          29.6596,
          29.678,
          29.4942,
          29.4391,
          29.6412,
          29.531,
          29.384,
          29.3656,
          29.4024,
          29.5861,
          29.678,
          29.8618,
          29.9169,
          30.1374,
          29.8618,
          29.825,
          29.4024,
          29.6045,
          29.825,
          29.9904,
          30.5049,
          30.5049,
          30.6887,
          30.9827,
          31.0746,
          30.7806,
          30.799,
          30.7438,
          30.7438,
          30.7071,
          30.8541,
          30.7622,
          30.6887,
          30.3212,
          30.3028,
          30.6152,
          30.4866,
          30.5784,
          30.5968,
          31.0195,
          31.0011,
          31.0379,
          30.7806,
          31.0379,
          31.2216,
          31.3319,
          31.681,
          31.681,
          31.6443,
          31.6994,
          31.6075,
          31.6075,
          31.5156,
          31.4054,
          31.6994,
          32,
          32,
          31.98,
          31.6,
          31.56,
          31.24,
          31.2,
          30.96,
          31.1,
          31.54,
          31.66,
          31.68,
          31.66,
          31.68,
          31.22,
          31.38,
          31.36,
          31.36,
          31.18,
          31.2,
          31.36,
          31.26,
          31.1,
          31.22,
          31.32,
          31.78,
          31.8,
          31.78,
          32.74,
          32.74,
          32.2,
          31.3,
          31.02,
          30.9,
          31.08,
          31.36,
          31.36,
          31.3,
          31.4,
          31.66,
          31.46,
          31.4,
          31.2,
          31.06,
          30.94,
          31.26,
          31.16,
          30.88,
          30.98,
          30.68,
          31,
          30,
          29.98,
          30,
          30.82,
          30.68,
          30.58,
          30.48,
          30.4,
          30.1,
          29.98,
          30.3,
          30.1,
          29.98,
          29.96,
          29.94,
          29.82,
          29.82,
          29.84,
          29.88,
          29.76,
          29.76,
          29.7,
          29.3,
          29.48,
          29.28,
          28.7,
          29.04,
          28.8,
          29,
          28.9,
          28.9,
          28.78,
          28.9,
          29,
          29,
          28.98,
          28.98,
          29.1,
          29.28
         ],
         "low": [
          28.6122,
          28.6489,
          28.5387,
          28.4835,
          26.8664,
          29.1267,
          28.6857,
          29.5126,
          29.5677,
          29.8066,
          30.0455,
          30.1374,
          30.3396,
          30.5049,
          30.3028,
          30.3028,
          29.531,
          29.5677,
          29.8801,
          29.9904,
          29.2186,
          29.8434,
          29.9353,
          28.704,
          29.8801,
          29.6964,
          29.7883,
          29.8985,
          29.8985,
          29.8985,
          29.8985,
          29.6964,
          29.7699,
          30.5049,
          30.4866,
          30.6152,
          30.2293,
          30.7071,
          30.3212,
          30.3212,
          30.3212,
          30.4131,
          30.5233,
          30.7622,
          30.7806,
          31.1297,
          30.9644,
          31.1114,
          30.8725,
          30.6887,
          30.4682,
          30.2477,
          30.3396,
          30.2844,
          29.8618,
          29.4207,
          28.9429,
          29.2002,
          29.1267,
          28.7776,
          28.6305,
          28.9429,
          29.1451,
          29.0348,
          29.0348,
          29.0348,
          29.0716,
          29.1818,
          29.2186,
          29.0716,
          28.7776,
          28.7959,
          28.7959,
          28.9429,
          29.0348,
          29.2186,
          29.2553,
          29.3288,
          29.3288,
          29.2921,
          29.237,
          29.2553,
          29.3288,
          29.3656,
          29.3656,
          29.4024,
          29.4942,
          29.4942,
          29.6412,
          29.5861,
          29.6596,
          29.678,
          29.4024,
          29.7699,
          29.4207,
          29.4207,
          29.5126,
          29.4942,
          29.4024,
          29.4024,
          29.5126,
          29.5677,
          28.9246,
          29.0348,
          29.8066,
          29.7699,
          30.0455,
          29.8434,
          29.8618,
          29.6964,
          29.4942,
          29.4024,
          29.4024,
          29.6045,
          29.4575,
          29.7331,
          30.1374,
          30.2293,
          30.0455,
          29.9536,
          29.9904,
          29.8066,
          29.7515,
          29.4942,
          29.3472,
          29.2553,
          29.237,
          28.9429,
          28.9429,
          29.1083,
          29.1818,
          29.2002,
          29.0164,
          28.8511,
          29.0348,
          29.1635,
          29.237,
          29.237,
          29.4942,
          29.7148,
          29.4942,
          29.3105,
          29.0716,
          29.0348,
          29.2737,
          29.4024,
          29.3288,
          29.531,
          29.8801,
          30.0455,
          30.3579,
          30.5049,
          30.2293,
          30.3212,
          29.6045,
          30.4498,
          30.3212,
          30.3947,
          30.4131,
          29.9169,
          29.9169,
          29.5861,
          29.7883,
          30.2109,
          30.1374,
          30.2844,
          30.2844,
          30.5417,
          30.652,
          30.3579,
          30.5968,
          30.7806,
          30.7071,
          31.3319,
          31.1481,
          31.1481,
          31.1481,
          30.9276,
          31.2216,
          31.0562,
          31.2216,
          30.9827,
          31.1,
          31.4,
          31.3,
          31.12,
          31,
          30.9,
          30.82,
          30.66,
          30.68,
          30.5,
          31,
          31.06,
          31.28,
          31.22,
          30.76,
          30.74,
          30.92,
          30.9,
          30.86,
          31,
          31.04,
          31,
          30.9,
          30.5,
          30.74,
          31.2,
          31.14,
          31.24,
          31.76,
          31.98,
          31.1,
          31,
          30.8,
          30.76,
          30.76,
          30.76,
          29.5,
          30.56,
          30.8,
          30.9,
          31.02,
          31.02,
          31.06,
          30.58,
          30.6,
          30.8,
          30.6,
          30.56,
          30.58,
          30.2,
          29.46,
          29.68,
          29.64,
          29.72,
          30.18,
          30,
          29.9,
          30,
          29.7,
          29.9,
          29.88,
          29.98,
          29.7,
          29.72,
          29.7,
          29.72,
          29.72,
          29.5,
          27.46,
          29.24,
          29.4,
          29.4,
          29.16,
          28.8,
          28.7,
          28.62,
          28.36,
          28.02,
          28.16,
          28,
          28.46,
          28.2,
          28.16,
          28.3,
          28.4,
          28.52,
          28.54,
          28.7,
          28.82,
          28.3
         ],
         "open": [
          29.3472,
          28.6673,
          28.6857,
          28.9981,
          28.5938,
          29.3656,
          28.6857,
          29.9536,
          30.0823,
          30.0272,
          30.1374,
          30.4314,
          30.5601,
          30.5049,
          30.9644,
          30.3212,
          30.7806,
          29.5677,
          30.2293,
          30.652,
          30.4131,
          30.3212,
          29.9353,
          30.1374,
          29.8801,
          30.3212,
          30.3763,
          30.0455,
          29.9536,
          30.2109,
          29.8985,
          29.9353,
          30.1742,
          30.8725,
          30.6152,
          30.8908,
          31.0379,
          30.8725,
          30.5233,
          30.4682,
          30.3212,
          31.1114,
          31.0011,
          30.7806,
          30.9644,
          31.2216,
          31.1481,
          31.4238,
          31.2216,
          31.1481,
          30.799,
          30.4682,
          30.3396,
          30.6336,
          30.3579,
          30.1007,
          29.678,
          29.8618,
          29.2186,
          29.2186,
          28.9429,
          29.1083,
          29.6596,
          29.4024,
          29.0348,
          29.2186,
          29.0716,
          29.1818,
          29.4024,
          29.384,
          29.2553,
          28.8511,
          29.1818,
          28.9429,
          29.4024,
          29.2186,
          29.4024,
          29.384,
          29.4942,
          29.4024,
          29.237,
          29.2737,
          29.825,
          29.4024,
          29.4024,
          29.5861,
          29.5861,
          29.5861,
          29.7331,
          29.6964,
          29.8985,
          30.2109,
          29.7148,
          29.8618,
          29.9169,
          29.7699,
          29.9169,
          29.678,
          29.678,
          29.4024,
          29.8066,
          29.5861,
          29.5677,
          29.0348,
          29.9169,
          30.3947,
          30.3212,
          30.3028,
          30.1007,
          30.0823,
          30.0088,
          29.5494,
          29.7148,
          29.825,
          29.6045,
          30.0272,
          30.1925,
          30.6887,
          30.2477,
          30.0823,
          30.3763,
          30.0272,
          30.0272,
          29.7699,
          29.5861,
          29.3656,
          29.6596,
          29.4024,
          28.9613,
          29.4942,
          29.3105,
          29.3105,
          29.2921,
          29.1267,
          29.0716,
          29.3288,
          29.237,
          29.2737,
          29.678,
          29.7883,
          29.8618,
          29.7699,
          29.3105,
          29.0348,
          29.4024,
          29.4024,
          29.7699,
          29.531,
          30.5049,
          30.4498,
          30.7255,
          30.5049,
          30.652,
          30.4131,
          30.7438,
          30.5968,
          30.6887,
          30.3947,
          30.7622,
          30.5968,
          29.9169,
          30.3028,
          30.1374,
          30.3212,
          30.266,
          30.3947,
          30.5968,
          30.8725,
          30.9644,
          30.7806,
          30.6887,
          31.0379,
          30.9644,
          31.3319,
          31.681,
          31.4605,
          31.534,
          31.6075,
          31.24,
          31.4973,
          31.4054,
          31.5892,
          32,
          32,
          31.5,
          31.3,
          31.14,
          31.2,
          31.2,
          30.82,
          30.68,
          30.5,
          31.66,
          31.06,
          31.6,
          31.52,
          31.22,
          31.26,
          30.92,
          31.3,
          31,
          31,
          31.24,
          31.26,
          31.08,
          31.2,
          30.74,
          31.2,
          31.7,
          31.24,
          31.76,
          32.74,
          32.2,
          31.3,
          31.02,
          30.82,
          31.08,
          30.8,
          31.36,
          31.24,
          31,
          30.9,
          31.4,
          31.38,
          31.2,
          31.06,
          30.6,
          30.8,
          30.6,
          30.6,
          30.64,
          30.58,
          31,
          29.68,
          29.74,
          29.9,
          30.18,
          30.32,
          30.58,
          30.48,
          30.02,
          29.9,
          29.98,
          29.98,
          30.1,
          29.9,
          29.94,
          29.94,
          29.82,
          29.7,
          29.82,
          29.5,
          29.4,
          29.76,
          29.7,
          29.22,
          29.04,
          28.62,
          28.7,
          28.3,
          28.36,
          28.8,
          28.46,
          28.9,
          28.26,
          28.78,
          28.74,
          28.52,
          28.98,
          28.7,
          29,
          29.28
         ],
         "type": "candlestick",
         "x": [
          "2023-09-01",
          "2023-09-04",
          "2023-09-05",
          "2023-09-06",
          "2023-09-07",
          "2023-09-08",
          "2023-09-11",
          "2023-09-12",
          "2023-09-13",
          "2023-09-14",
          "2023-09-15",
          "2023-09-18",
          "2023-09-19",
          "2023-09-20",
          "2023-09-21",
          "2023-09-22",
          "2023-09-25",
          "2023-09-26",
          "2023-09-27",
          "2023-09-28",
          "2023-09-29",
          "2023-10-02",
          "2023-10-03",
          "2023-10-04",
          "2023-10-05",
          "2023-10-06",
          "2023-10-09",
          "2023-10-10",
          "2023-10-11",
          "2023-10-12",
          "2023-10-13",
          "2023-10-16",
          "2023-10-17",
          "2023-10-18",
          "2023-10-19",
          "2023-10-20",
          "2023-10-23",
          "2023-10-24",
          "2023-10-25",
          "2023-10-26",
          "2023-10-27",
          "2023-10-30",
          "2023-10-31",
          "2023-11-02",
          "2023-11-03",
          "2023-11-06",
          "2023-11-07",
          "2023-11-08",
          "2023-11-09",
          "2023-11-10",
          "2023-11-13",
          "2023-11-14",
          "2023-11-15",
          "2023-11-16",
          "2023-11-17",
          "2023-11-20",
          "2023-11-21",
          "2023-11-22",
          "2023-11-23",
          "2023-11-24",
          "2023-11-27",
          "2023-11-28",
          "2023-11-29",
          "2023-11-30",
          "2023-12-01",
          "2023-12-04",
          "2023-12-05",
          "2023-12-06",
          "2023-12-07",
          "2023-12-08",
          "2023-12-11",
          "2023-12-12",
          "2023-12-13",
          "2023-12-14",
          "2023-12-15",
          "2023-12-18",
          "2023-12-19",
          "2023-12-20",
          "2023-12-21",
          "2023-12-22",
          "2023-12-27",
          "2023-12-28",
          "2023-12-29",
          "2024-01-02",
          "2024-01-03",
          "2024-01-04",
          "2024-01-05",
          "2024-01-08",
          "2024-01-09",
          "2024-01-10",
          "2024-01-11",
          "2024-01-12",
          "2024-01-15",
          "2024-01-16",
          "2024-01-17",
          "2024-01-18",
          "2024-01-19",
          "2024-01-22",
          "2024-01-23",
          "2024-01-24",
          "2024-01-25",
          "2024-01-26",
          "2024-01-29",
          "2024-01-30",
          "2024-01-31",
          "2024-02-01",
          "2024-02-02",
          "2024-02-05",
          "2024-02-06",
          "2024-02-07",
          "2024-02-08",
          "2024-02-09",
          "2024-02-12",
          "2024-02-13",
          "2024-02-14",
          "2024-02-15",
          "2024-02-16",
          "2024-02-19",
          "2024-02-20",
          "2024-02-21",
          "2024-02-22",
          "2024-02-23",
          "2024-02-26",
          "2024-02-27",
          "2024-02-28",
          "2024-02-29",
          "2024-03-01",
          "2024-03-04",
          "2024-03-05",
          "2024-03-06",
          "2024-03-07",
          "2024-03-08",
          "2024-03-11",
          "2024-03-12",
          "2024-03-13",
          "2024-03-14",
          "2024-03-15",
          "2024-03-18",
          "2024-03-19",
          "2024-03-20",
          "2024-03-21",
          "2024-03-22",
          "2024-03-25",
          "2024-03-26",
          "2024-03-27",
          "2024-03-28",
          "2024-04-02",
          "2024-04-03",
          "2024-04-04",
          "2024-04-05",
          "2024-04-08",
          "2024-04-09",
          "2024-04-10",
          "2024-04-11",
          "2024-04-12",
          "2024-04-15",
          "2024-04-16",
          "2024-04-17",
          "2024-04-18",
          "2024-04-19",
          "2024-04-22",
          "2024-04-23",
          "2024-04-24",
          "2024-04-25",
          "2024-04-26",
          "2024-04-29",
          "2024-04-30",
          "2024-05-02",
          "2024-05-06",
          "2024-05-07",
          "2024-05-08",
          "2024-05-09",
          "2024-05-10",
          "2024-05-13",
          "2024-05-14",
          "2024-05-15",
          "2024-05-16",
          "2024-05-17",
          "2024-05-20",
          "2024-05-21",
          "2024-05-22",
          "2024-05-23",
          "2024-05-24",
          "2024-05-27",
          "2024-05-28",
          "2024-05-29",
          "2024-05-31",
          "2024-06-03",
          "2024-06-04",
          "2024-06-05",
          "2024-06-06",
          "2024-06-07",
          "2024-06-10",
          "2024-06-11",
          "2024-06-12",
          "2024-06-13",
          "2024-06-14",
          "2024-06-17",
          "2024-06-18",
          "2024-06-19",
          "2024-06-20",
          "2024-06-21",
          "2024-06-24",
          "2024-06-25",
          "2024-06-26",
          "2024-06-27",
          "2024-06-28",
          "2024-07-01",
          "2024-07-02",
          "2024-07-03",
          "2024-07-04",
          "2024-07-05",
          "2024-07-08",
          "2024-07-09",
          "2024-07-10",
          "2024-07-11",
          "2024-07-12",
          "2024-07-15",
          "2024-07-16",
          "2024-07-17",
          "2024-07-18",
          "2024-07-19",
          "2024-07-22",
          "2024-07-23",
          "2024-07-24",
          "2024-07-25",
          "2024-07-26",
          "2024-07-29",
          "2024-07-30",
          "2024-07-31",
          "2024-08-01",
          "2024-08-02",
          "2024-08-05",
          "2024-08-06",
          "2024-08-07",
          "2024-08-08",
          "2024-08-09",
          "2024-08-12",
          "2024-08-13",
          "2024-08-14",
          "2024-08-16",
          "2024-08-19",
          "2024-08-20",
          "2024-08-21",
          "2024-08-22",
          "2024-08-23",
          "2024-08-26",
          "2024-08-27",
          "2024-08-28",
          "2024-08-29",
          "2024-08-30",
          "2024-09-02",
          "2024-09-03",
          "2024-09-04",
          "2024-09-05",
          "2024-09-06",
          "2024-09-09",
          "2024-09-10",
          "2024-09-11",
          "2024-09-12",
          "2024-09-13",
          "2024-09-16",
          "2024-09-17",
          "2024-09-18",
          "2024-09-19",
          "2024-09-20",
          "2024-09-23",
          "2024-09-24",
          "2024-09-25",
          "2024-09-26",
          "2024-09-27",
          "2024-09-30"
         ]
        }
       ],
       "layout": {
        "height": 800,
        "template": {
         "data": {
          "bar": [
           {
            "error_x": {
             "color": "#2a3f5f"
            },
            "error_y": {
             "color": "#2a3f5f"
            },
            "marker": {
             "line": {
              "color": "#E5ECF6",
              "width": 0.5
             },
             "pattern": {
              "fillmode": "overlay",
              "size": 10,
              "solidity": 0.2
             }
            },
            "type": "bar"
           }
          ],
          "barpolar": [
           {
            "marker": {
             "line": {
              "color": "#E5ECF6",
              "width": 0.5
             },
             "pattern": {
              "fillmode": "overlay",
              "size": 10,
              "solidity": 0.2
             }
            },
            "type": "barpolar"
           }
          ],
          "carpet": [
           {
            "aaxis": {
             "endlinecolor": "#2a3f5f",
             "gridcolor": "white",
             "linecolor": "white",
             "minorgridcolor": "white",
             "startlinecolor": "#2a3f5f"
            },
            "baxis": {
             "endlinecolor": "#2a3f5f",
             "gridcolor": "white",
             "linecolor": "white",
             "minorgridcolor": "white",
             "startlinecolor": "#2a3f5f"
            },
            "type": "carpet"
           }
          ],
          "choropleth": [
           {
            "colorbar": {
             "outlinewidth": 0,
             "ticks": ""
            },
            "type": "choropleth"
           }
          ],
          "contour": [
           {
            "colorbar": {
             "outlinewidth": 0,
             "ticks": ""
            },
            "colorscale": [
             [
              0,
              "#0d0887"
             ],
             [
              0.1111111111111111,
              "#46039f"
             ],
             [
              0.2222222222222222,
              "#7201a8"
             ],
             [
              0.3333333333333333,
              "#9c179e"
             ],
             [
              0.4444444444444444,
              "#bd3786"
             ],
             [
              0.5555555555555556,
              "#d8576b"
             ],
             [
              0.6666666666666666,
              "#ed7953"
             ],
             [
              0.7777777777777778,
              "#fb9f3a"
             ],
             [
              0.8888888888888888,
              "#fdca26"
             ],
             [
              1,
              "#f0f921"
             ]
            ],
            "type": "contour"
           }
          ],
          "contourcarpet": [
           {
            "colorbar": {
             "outlinewidth": 0,
             "ticks": ""
            },
            "type": "contourcarpet"
           }
          ],
          "heatmap": [
           {
            "colorbar": {
             "outlinewidth": 0,
             "ticks": ""
            },
            "colorscale": [
             [
              0,
              "#0d0887"
             ],
             [
              0.1111111111111111,
              "#46039f"
             ],
             [
              0.2222222222222222,
              "#7201a8"
             ],
             [
              0.3333333333333333,
              "#9c179e"
             ],
             [
              0.4444444444444444,
              "#bd3786"
             ],
             [
              0.5555555555555556,
              "#d8576b"
             ],
             [
              0.6666666666666666,
              "#ed7953"
             ],
             [
              0.7777777777777778,
              "#fb9f3a"
             ],
             [
              0.8888888888888888,
              "#fdca26"
             ],
             [
              1,
              "#f0f921"
             ]
            ],
            "type": "heatmap"
           }
          ],
          "heatmapgl": [
           {
            "colorbar": {
             "outlinewidth": 0,
             "ticks": ""
            },
            "colorscale": [
             [
              0,
              "#0d0887"
             ],
             [
              0.1111111111111111,
              "#46039f"
             ],
             [
              0.2222222222222222,
              "#7201a8"
             ],
             [
              0.3333333333333333,
              "#9c179e"
             ],
             [
              0.4444444444444444,
              "#bd3786"
             ],
             [
              0.5555555555555556,
              "#d8576b"
             ],
             [
              0.6666666666666666,
              "#ed7953"
             ],
             [
              0.7777777777777778,
              "#fb9f3a"
             ],
             [
              0.8888888888888888,
              "#fdca26"
             ],
             [
              1,
              "#f0f921"
             ]
            ],
            "type": "heatmapgl"
           }
          ],
          "histogram": [
           {
            "marker": {
             "pattern": {
              "fillmode": "overlay",
              "size": 10,
              "solidity": 0.2
             }
            },
            "type": "histogram"
           }
          ],
          "histogram2d": [
           {
            "colorbar": {
             "outlinewidth": 0,
             "ticks": ""
            },
            "colorscale": [
             [
              0,
              "#0d0887"
             ],
             [
              0.1111111111111111,
              "#46039f"
             ],
             [
              0.2222222222222222,
              "#7201a8"
             ],
             [
              0.3333333333333333,
              "#9c179e"
             ],
             [
              0.4444444444444444,
              "#bd3786"
             ],
             [
              0.5555555555555556,
              "#d8576b"
             ],
             [
              0.6666666666666666,
              "#ed7953"
             ],
             [
              0.7777777777777778,
              "#fb9f3a"
             ],
             [
              0.8888888888888888,
              "#fdca26"
             ],
             [
              1,
              "#f0f921"
             ]
            ],
            "type": "histogram2d"
           }
          ],
          "histogram2dcontour": [
           {
            "colorbar": {
             "outlinewidth": 0,
             "ticks": ""
            },
            "colorscale": [
             [
              0,
              "#0d0887"
             ],
             [
              0.1111111111111111,
              "#46039f"
             ],
             [
              0.2222222222222222,
              "#7201a8"
             ],
             [
              0.3333333333333333,
              "#9c179e"
             ],
             [
              0.4444444444444444,
              "#bd3786"
             ],
             [
              0.5555555555555556,
              "#d8576b"
             ],
             [
              0.6666666666666666,
              "#ed7953"
             ],
             [
              0.7777777777777778,
              "#fb9f3a"
             ],
             [
              0.8888888888888888,
              "#fdca26"
             ],
             [
              1,
              "#f0f921"
             ]
            ],
            "type": "histogram2dcontour"
           }
          ],
          "mesh3d": [
           {
            "colorbar": {
             "outlinewidth": 0,
             "ticks": ""
            },
            "type": "mesh3d"
           }
          ],
          "parcoords": [
           {
            "line": {
             "colorbar": {
              "outlinewidth": 0,
              "ticks": ""
             }
            },
            "type": "parcoords"
           }
          ],
          "pie": [
           {
            "automargin": true,
            "type": "pie"
           }
          ],
          "scatter": [
           {
            "fillpattern": {
             "fillmode": "overlay",
             "size": 10,
             "solidity": 0.2
            },
            "type": "scatter"
           }
          ],
          "scatter3d": [
           {
            "line": {
             "colorbar": {
              "outlinewidth": 0,
              "ticks": ""
             }
            },
            "marker": {
             "colorbar": {
              "outlinewidth": 0,
              "ticks": ""
             }
            },
            "type": "scatter3d"
           }
          ],
          "scattercarpet": [
           {
            "marker": {
             "colorbar": {
              "outlinewidth": 0,
              "ticks": ""
             }
            },
            "type": "scattercarpet"
           }
          ],
          "scattergeo": [
           {
            "marker": {
             "colorbar": {
              "outlinewidth": 0,
              "ticks": ""
             }
            },
            "type": "scattergeo"
           }
          ],
          "scattergl": [
           {
            "marker": {
             "colorbar": {
              "outlinewidth": 0,
              "ticks": ""
             }
            },
            "type": "scattergl"
           }
          ],
          "scattermapbox": [
           {
            "marker": {
             "colorbar": {
              "outlinewidth": 0,
              "ticks": ""
             }
            },
            "type": "scattermapbox"
           }
          ],
          "scatterpolar": [
           {
            "marker": {
             "colorbar": {
              "outlinewidth": 0,
              "ticks": ""
             }
            },
            "type": "scatterpolar"
           }
          ],
          "scatterpolargl": [
           {
            "marker": {
             "colorbar": {
              "outlinewidth": 0,
              "ticks": ""
             }
            },
            "type": "scatterpolargl"
           }
          ],
          "scatterternary": [
           {
            "marker": {
             "colorbar": {
              "outlinewidth": 0,
              "ticks": ""
             }
            },
            "type": "scatterternary"
           }
          ],
          "surface": [
           {
            "colorbar": {
             "outlinewidth": 0,
             "ticks": ""
            },
            "colorscale": [
             [
              0,
              "#0d0887"
             ],
             [
              0.1111111111111111,
              "#46039f"
             ],
             [
              0.2222222222222222,
              "#7201a8"
             ],
             [
              0.3333333333333333,
              "#9c179e"
             ],
             [
              0.4444444444444444,
              "#bd3786"
             ],
             [
              0.5555555555555556,
              "#d8576b"
             ],
             [
              0.6666666666666666,
              "#ed7953"
             ],
             [
              0.7777777777777778,
              "#fb9f3a"
             ],
             [
              0.8888888888888888,
              "#fdca26"
             ],
             [
              1,
              "#f0f921"
             ]
            ],
            "type": "surface"
           }
          ],
          "table": [
           {
            "cells": {
             "fill": {
              "color": "#EBF0F8"
             },
             "line": {
              "color": "white"
             }
            },
            "header": {
             "fill": {
              "color": "#C8D4E3"
             },
             "line": {
              "color": "white"
             }
            },
            "type": "table"
           }
          ]
         },
         "layout": {
          "annotationdefaults": {
           "arrowcolor": "#2a3f5f",
           "arrowhead": 0,
           "arrowwidth": 1
          },
          "autotypenumbers": "strict",
          "coloraxis": {
           "colorbar": {
            "outlinewidth": 0,
            "ticks": ""
           }
          },
          "colorscale": {
           "diverging": [
            [
             0,
             "#8e0152"
            ],
            [
             0.1,
             "#c51b7d"
            ],
            [
             0.2,
             "#de77ae"
            ],
            [
             0.3,
             "#f1b6da"
            ],
            [
             0.4,
             "#fde0ef"
            ],
            [
             0.5,
             "#f7f7f7"
            ],
            [
             0.6,
             "#e6f5d0"
            ],
            [
             0.7,
             "#b8e186"
            ],
            [
             0.8,
             "#7fbc41"
            ],
            [
             0.9,
             "#4d9221"
            ],
            [
             1,
             "#276419"
            ]
           ],
           "sequential": [
            [
             0,
             "#0d0887"
            ],
            [
             0.1111111111111111,
             "#46039f"
            ],
            [
             0.2222222222222222,
             "#7201a8"
            ],
            [
             0.3333333333333333,
             "#9c179e"
            ],
            [
             0.4444444444444444,
             "#bd3786"
            ],
            [
             0.5555555555555556,
             "#d8576b"
            ],
            [
             0.6666666666666666,
             "#ed7953"
            ],
            [
             0.7777777777777778,
             "#fb9f3a"
            ],
            [
             0.8888888888888888,
             "#fdca26"
            ],
            [
             1,
             "#f0f921"
            ]
           ],
           "sequentialminus": [
            [
             0,
             "#0d0887"
            ],
            [
             0.1111111111111111,
             "#46039f"
            ],
            [
             0.2222222222222222,
             "#7201a8"
            ],
            [
             0.3333333333333333,
             "#9c179e"
            ],
            [
             0.4444444444444444,
             "#bd3786"
            ],
            [
             0.5555555555555556,
             "#d8576b"
            ],
            [
             0.6666666666666666,
             "#ed7953"
            ],
            [
             0.7777777777777778,
             "#fb9f3a"
            ],
            [
             0.8888888888888888,
             "#fdca26"
            ],
            [
             1,
             "#f0f921"
            ]
           ]
          },
          "colorway": [
           "#636efa",
           "#EF553B",
           "#00cc96",
           "#ab63fa",
           "#FFA15A",
           "#19d3f3",
           "#FF6692",
           "#B6E880",
           "#FF97FF",
           "#FECB52"
          ],
          "font": {
           "color": "#2a3f5f"
          },
          "geo": {
           "bgcolor": "white",
           "lakecolor": "white",
           "landcolor": "#E5ECF6",
           "showlakes": true,
           "showland": true,
           "subunitcolor": "white"
          },
          "hoverlabel": {
           "align": "left"
          },
          "hovermode": "closest",
          "mapbox": {
           "style": "light"
          },
          "paper_bgcolor": "white",
          "plot_bgcolor": "#E5ECF6",
          "polar": {
           "angularaxis": {
            "gridcolor": "white",
            "linecolor": "white",
            "ticks": ""
           },
           "bgcolor": "#E5ECF6",
           "radialaxis": {
            "gridcolor": "white",
            "linecolor": "white",
            "ticks": ""
           }
          },
          "scene": {
           "xaxis": {
            "backgroundcolor": "#E5ECF6",
            "gridcolor": "white",
            "gridwidth": 2,
            "linecolor": "white",
            "showbackground": true,
            "ticks": "",
            "zerolinecolor": "white"
           },
           "yaxis": {
            "backgroundcolor": "#E5ECF6",
            "gridcolor": "white",
            "gridwidth": 2,
            "linecolor": "white",
            "showbackground": true,
            "ticks": "",
            "zerolinecolor": "white"
           },
           "zaxis": {
            "backgroundcolor": "#E5ECF6",
            "gridcolor": "white",
            "gridwidth": 2,
            "linecolor": "white",
            "showbackground": true,
            "ticks": "",
            "zerolinecolor": "white"
           }
          },
          "shapedefaults": {
           "line": {
            "color": "#2a3f5f"
           }
          },
          "ternary": {
           "aaxis": {
            "gridcolor": "white",
            "linecolor": "white",
            "ticks": ""
           },
           "baxis": {
            "gridcolor": "white",
            "linecolor": "white",
            "ticks": ""
           },
           "bgcolor": "#E5ECF6",
           "caxis": {
            "gridcolor": "white",
            "linecolor": "white",
            "ticks": ""
           }
          },
          "title": {
           "x": 0.05
          },
          "xaxis": {
           "automargin": true,
           "gridcolor": "white",
           "linecolor": "white",
           "ticks": "",
           "title": {
            "standoff": 15
           },
           "zerolinecolor": "white",
           "zerolinewidth": 2
          },
          "yaxis": {
           "automargin": true,
           "gridcolor": "white",
           "linecolor": "white",
           "ticks": "",
           "title": {
            "standoff": 15
           },
           "zerolinecolor": "white",
           "zerolinewidth": 2
          }
         }
        },
        "title": {
         "text": "Wykres cen akcji spółki MOL"
        },
        "width": 1500,
        "xaxis": {
         "rangeslider": {
          "visible": false
         },
         "title": {
          "text": "Data"
         }
        },
        "yaxis": {
         "title": {
          "text": "Cena"
         },
         "type": "log"
        }
       }
      }
     },
     "metadata": {},
     "output_type": "display_data"
    }
   ],
   "source": [
    "fig = go.Figure(data = [go.Candlestick(x=df_copy['Data'],\n",
    "                                       open=df_copy['Otwarcie'],\n",
    "                                       high=df_copy['Najwyzszy'],\n",
    "                                       low=df_copy['Najnizszy'],\n",
    "                                       close=df_copy['Zamkniecie'])])\n",
    "\n",
    "\n",
    "fig.update_layout(xaxis_rangeslider_visible = False)\n",
    "fig.update_layout(yaxis_title = \"Cena\", xaxis_title = \"Data\", title = 'Wykres cen akcji spółki MOL')\n",
    "fig.update_layout(height=800, width=1500)\n",
    "fig.update_yaxes(type=\"log\")"
   ]
  },
  {
   "cell_type": "code",
   "execution_count": 645,
   "metadata": {
    "colab": {
     "base_uri": "https://localhost:8080/",
     "height": 479
    },
    "id": "XxLuIbCnNC6a",
    "outputId": "4a20501a-005a-41b7-e8a1-a71b8cc8f7ce"
   },
   "outputs": [
    {
     "data": {
      "image/png": "[encoded data removed]",
      "text/plain": [
       "<Figure size 1400x500 with 2 Axes>"
      ]
     },
     "metadata": {},
     "output_type": "display_data"
    }
   ],
   "source": [
    "fig, axes = plt.subplots(1, 2, figsize=(14, 5))\n",
    "df['Stopa zwrotu'].plot(ax=axes[0], title=\"Stopa zwrotu\")\n",
    "df['Logarytm stopy zwrotu'].plot(ax=axes[1], title=\"Logarytm stopy zwrotu\")\n",
    "df = df.iloc[1:]\n",
    "\n",
    "for ax in axes:\n",
    "    ax.set_xlabel(\"Data\")\n",
    "    ax.set_ylabel(\"Wartość\")\n",
    "\n",
    "plt.tight_layout()\n",
    "plt.show()"
   ]
  },
  {
   "cell_type": "markdown",
   "metadata": {
    "id": "nB1hJ2jpO-B_"
   },
   "source": [
    "# 1. Badanie stacjonarności stóp zwrotu i logarytmów cen (test ADF)"
   ]
  },
  {
   "cell_type": "code",
   "execution_count": 646,
   "metadata": {
    "colab": {
     "base_uri": "https://localhost:8080/"
    },
    "id": "P3sjrtCCD5ir",
    "outputId": "0ff80f66-4af6-42fe-b670-31c383580c85"
   },
   "outputs": [
    {
     "name": "stdout",
     "output_type": "stream",
     "text": [
      "ADF Statistic: -21.316896889799263\n",
      "p-value: 0.0\n"
     ]
    }
   ],
   "source": [
    "# badanie stacjonarności stóp zwrotu\n",
    "# Test ADF\n",
    "adf_result = adfuller(df['Logarytm stopy zwrotu'])\n",
    "print('ADF Statistic:', adf_result[0])\n",
    "print('p-value:', adf_result[1])"
   ]
  },
  {
   "cell_type": "markdown",
   "metadata": {
    "id": "pj80GQxEFIIz"
   },
   "source": [
    "p-value < 0.05 więc odrzucamy H0 i szereg jest stacjonarny"
   ]
  },
  {
   "cell_type": "code",
   "execution_count": 647,
   "metadata": {
    "colab": {
     "base_uri": "https://localhost:8080/"
    },
    "id": "5EOLdDmrFVae",
    "outputId": "1c2df440-cb5e-4c4a-9487-7a55424c542c"
   },
   "outputs": [
    {
     "name": "stdout",
     "output_type": "stream",
     "text": [
      "ADF Statistic: -2.3847079872608545\n",
      "p-value: 0.14609906305448278\n"
     ]
    }
   ],
   "source": [
    "# badanie stacjonarności logarytmów cen\n",
    "adf_result = adfuller(df['Logarytm ceny'])\n",
    "print('ADF Statistic:', adf_result[0])\n",
    "print('p-value:', adf_result[1])"
   ]
  },
  {
   "cell_type": "markdown",
   "metadata": {
    "id": "IANyIKKdFecd"
   },
   "source": [
    "p-value > 0.05 więc zostawiamy H0 i szereg jest niestacjonarny"
   ]
  },
  {
   "cell_type": "markdown",
   "metadata": {
    "id": "Rqj61B0uSETj"
   },
   "source": [
    "# 2. Dopasowanie modelu"
   ]
  },
  {
   "cell_type": "code",
   "execution_count": 648,
   "metadata": {
    "colab": {
     "base_uri": "https://localhost:8080/",
     "height": 904
    },
    "id": "dyyDeXrSLmXn",
    "outputId": "07696bc3-2b81-420c-98ac-9f75f846f084"
   },
   "outputs": [
    {
     "data": {
      "image/png": "[encoded data removed]",
      "text/plain": [
       "<Figure size 640x480 with 1 Axes>"
      ]
     },
     "metadata": {},
     "output_type": "display_data"
    },
    {
     "data": {
      "text/plain": [
       "<Figure size 640x480 with 0 Axes>"
      ]
     },
     "metadata": {},
     "output_type": "display_data"
    },
    {
     "data": {
      "image/png": "[encoded data removed]",
      "text/plain": [
       "<Figure size 640x480 with 1 Axes>"
      ]
     },
     "metadata": {},
     "output_type": "display_data"
    }
   ],
   "source": [
    "\n",
    "plot_pacf(df['Logarytm stopy zwrotu'], lags=20, zero=False)\n",
    "plt.ylim(-0.3, 0.3)\n",
    "\n",
    "plt.figure()\n",
    "plot_acf(df['Logarytm stopy zwrotu'], lags=20, zero=False)\n",
    "plt.ylim(-0.3, 0.3)\n",
    "\n",
    "plt.show()"
   ]
  },
  {
   "cell_type": "code",
   "execution_count": 649,
   "metadata": {
    "colab": {
     "base_uri": "https://localhost:8080/"
    },
    "id": "nLNkP80NPj8-",
    "outputId": "8e00576d-2422-4fdf-8d60-e037a0ec1155"
   },
   "outputs": [
    {
     "name": "stdout",
     "output_type": "stream",
     "text": [
      "Performing stepwise search to minimize aic\n",
      " ARIMA(0,0,0)(0,0,0)[0]             : AIC=-1713.139, Time=0.02 sec\n",
      " ARIMA(1,0,0)(0,0,0)[0]             : AIC=-1729.738, Time=0.03 sec\n",
      " ARIMA(0,0,1)(0,0,0)[0]             : AIC=-1728.598, Time=0.03 sec\n",
      " ARIMA(2,0,0)(0,0,0)[0]             : AIC=-1727.765, Time=0.04 sec\n",
      " ARIMA(1,0,1)(0,0,0)[0]             : AIC=-1727.775, Time=0.04 sec\n",
      " ARIMA(2,0,1)(0,0,0)[0]             : AIC=-1725.745, Time=0.08 sec\n",
      " ARIMA(1,0,0)(0,0,0)[0] intercept   : AIC=-1727.742, Time=0.06 sec\n",
      "\n",
      "Best model:  ARIMA(1,0,0)(0,0,0)[0]          \n",
      "Total fit time: 0.301 seconds\n",
      "                               SARIMAX Results                                \n",
      "==============================================================================\n",
      "Dep. Variable:                      y   No. Observations:                  271\n",
      "Model:               SARIMAX(1, 0, 0)   Log Likelihood                 866.869\n",
      "Date:                Sun, 03 Nov 2024   AIC                          -1729.738\n",
      "Time:                        21:20:45   BIC                          -1722.533\n",
      "Sample:                             0   HQIC                         -1726.845\n",
      "                                - 271                                         \n",
      "Covariance Type:                  opg                                         \n",
      "==============================================================================\n",
      "                 coef    std err          z      P>|z|      [0.025      0.975]\n",
      "------------------------------------------------------------------------------\n",
      "ar.L1         -0.2580      0.052     -4.919      0.000      -0.361      -0.155\n",
      "sigma2       9.75e-05   6.44e-06     15.150      0.000    8.49e-05       0.000\n",
      "===================================================================================\n",
      "Ljung-Box (L1) (Q):                   0.00   Jarque-Bera (JB):                31.71\n",
      "Prob(Q):                              0.97   Prob(JB):                         0.00\n",
      "Heteroskedasticity (H):               0.86   Skew:                             0.35\n",
      "Prob(H) (two-sided):                  0.49   Kurtosis:                         4.52\n",
      "===================================================================================\n",
      "\n",
      "Warnings:\n",
      "[1] Covariance matrix calculated using the outer product of gradients (complex-step).\n"
     ]
    }
   ],
   "source": [
    "# Użycie auto_arima do automatycznego wyboru optymalnych parametrów\n",
    "stepwise_model_st_zwrotu = auto_arima(df['Logarytm stopy zwrotu'], start_p=0, start_q=0,\n",
    "                            max_p=5, max_q=5,\n",
    "                            seasonal=False,\n",
    "                            trace=True,\n",
    "                            error_action='ignore',\n",
    "                            suppress_warnings=True,\n",
    "                            stepwise=True)\n",
    "\n",
    "print(stepwise_model_st_zwrotu.summary())"
   ]
  },
  {
   "cell_type": "markdown",
   "metadata": {
    "id": "8gK5ERrNFpDm"
   },
   "source": [
    "więc robimy ARME"
   ]
  },
  {
   "cell_type": "code",
   "execution_count": 650,
   "metadata": {
    "colab": {
     "base_uri": "https://localhost:8080/"
    },
    "id": "RAjDeVpaezKt",
    "outputId": "5c691280-b936-4fa5-bc67-d98263c28af8"
   },
   "outputs": [
    {
     "name": "stdout",
     "output_type": "stream",
     "text": [
      "Performing stepwise search to minimize aic\n",
      " ARIMA(0,1,0)(0,0,0)[0] intercept   : AIC=-1704.063, Time=0.03 sec\n",
      " ARIMA(1,1,0)(0,0,0)[0] intercept   : AIC=-1720.765, Time=0.06 sec\n",
      " ARIMA(0,1,1)(0,0,0)[0] intercept   : AIC=-1719.634, Time=0.06 sec\n",
      " ARIMA(0,1,0)(0,0,0)[0]             : AIC=-1706.062, Time=0.03 sec\n",
      " ARIMA(2,1,0)(0,0,0)[0] intercept   : AIC=-1718.801, Time=0.07 sec\n",
      " ARIMA(1,1,1)(0,0,0)[0] intercept   : AIC=-1718.803, Time=0.08 sec\n",
      " ARIMA(2,1,1)(0,0,0)[0] intercept   : AIC=-1716.775, Time=0.22 sec\n",
      " ARIMA(1,1,0)(0,0,0)[0]             : AIC=-1722.765, Time=0.02 sec\n",
      " ARIMA(2,1,0)(0,0,0)[0]             : AIC=-1720.800, Time=0.04 sec\n",
      " ARIMA(1,1,1)(0,0,0)[0]             : AIC=-1720.802, Time=0.04 sec\n",
      " ARIMA(0,1,1)(0,0,0)[0]             : AIC=-1721.629, Time=0.02 sec\n",
      " ARIMA(2,1,1)(0,0,0)[0]             : AIC=-1718.774, Time=0.05 sec\n",
      "\n",
      "Best model:  ARIMA(1,1,0)(0,0,0)[0]          \n",
      "Total fit time: 0.717 seconds\n",
      "                               SARIMAX Results                                \n",
      "==============================================================================\n",
      "Dep. Variable:                      y   No. Observations:                  271\n",
      "Model:               SARIMAX(1, 1, 0)   Log Likelihood                 863.382\n",
      "Date:                Sun, 03 Nov 2024   AIC                          -1722.765\n",
      "Time:                        21:20:46   BIC                          -1715.568\n",
      "Sample:                             0   HQIC                         -1719.875\n",
      "                                - 271                                         \n",
      "Covariance Type:                  opg                                         \n",
      "==============================================================================\n",
      "                 coef    std err          z      P>|z|      [0.025      0.975]\n",
      "------------------------------------------------------------------------------\n",
      "ar.L1         -0.2591      0.053     -4.932      0.000      -0.362      -0.156\n",
      "sigma2       9.77e-05   6.46e-06     15.117      0.000     8.5e-05       0.000\n",
      "===================================================================================\n",
      "Ljung-Box (L1) (Q):                   0.00   Jarque-Bera (JB):                31.71\n",
      "Prob(Q):                              0.96   Prob(JB):                         0.00\n",
      "Heteroskedasticity (H):               0.87   Skew:                             0.36\n",
      "Prob(H) (two-sided):                  0.50   Kurtosis:                         4.52\n",
      "===================================================================================\n",
      "\n",
      "Warnings:\n",
      "[1] Covariance matrix calculated using the outer product of gradients (complex-step).\n"
     ]
    }
   ],
   "source": [
    "# Użycie auto_arima do automatycznego wyboru optymalnych parametrów\n",
    "stepwise_model_st_zwrotu = auto_arima(df['Logarytm ceny'], start_p=0, start_q=0,\n",
    "                            max_p=5, max_q=5,\n",
    "                            seasonal=False,\n",
    "                            trace=True,\n",
    "                            error_action='ignore',\n",
    "                            suppress_warnings=True,\n",
    "                            stepwise=True)\n",
    "\n",
    "print(stepwise_model_st_zwrotu.summary())"
   ]
  },
  {
   "cell_type": "code",
   "execution_count": 651,
   "metadata": {},
   "outputs": [],
   "source": [
    "def plot_price_prediction(predicted_prices, upper_bounds, lower_bounds, title):\n",
    "    historical_data = pd.read_csv('mol_d.csv', parse_dates=['Data'])\n",
    "    actual_data = pd.read_excel('mol_d_pazdziernik_stopy.xlsx', parse_dates=['Data'])\n",
    "\n",
    "    historical_data = historical_data[historical_data['Data'] >= '2024-09-01']\n",
    "\n",
    "    predicted_dates = pd.date_range(start=historical_data['Data'].iloc[-1] + pd.Timedelta(days=1), periods=4, freq='D')\n",
    "\n",
    "    plt.figure(figsize=(12, 6))\n",
    "\n",
    "    plt.plot(historical_data['Data'], historical_data['Zamkniecie'], label='Historical Price', color='blue')\n",
    "\n",
    "    plt.plot(actual_data['Data'], actual_data['Zamkniecie'], label='Actual Price', color='black', marker='o')\n",
    "\n",
    "    plt.plot(predicted_dates, predicted_prices, label='Predicted Price', color='orange', linestyle='--', marker='x')\n",
    "\n",
    "    plt.fill_between(predicted_dates, lower_bounds, upper_bounds, color='orange', alpha=0.3, label='Prediction Interval')\n",
    "\n",
    "    plt.gca().xaxis.set_major_formatter(mdates.DateFormatter('%Y-%m-%d'))\n",
    "    plt.gca().xaxis.set_major_locator(mdates.WeekdayLocator(interval=1))\n",
    "    plt.xticks(rotation=45)\n",
    "\n",
    "\n",
    "    plt.xlabel('Date')\n",
    "    plt.ylabel('Price')\n",
    "    plt.title(title)\n",
    "    plt.legend()\n",
    "    plt.tight_layout()\n",
    "    plt.show()\n"
   ]
  },
  {
   "cell_type": "markdown",
   "metadata": {
    "id": "Sm9sMr9wuGMo"
   },
   "source": [
    "# 2. Budowanie modelu"
   ]
  },
  {
   "cell_type": "code",
   "execution_count": 652,
   "metadata": {
    "colab": {
     "base_uri": "https://localhost:8080/"
    },
    "id": "rtciPGvPbF-y",
    "outputId": "5ce055b1-a64b-4347-ebc5-735e866d14ce"
   },
   "outputs": [
    {
     "name": "stdout",
     "output_type": "stream",
     "text": [
      "                                 SARIMAX Results                                 \n",
      "=================================================================================\n",
      "Dep. Variable:     Logarytm stopy zwrotu   No. Observations:                  271\n",
      "Model:                    ARIMA(1, 0, 0)   Log Likelihood                 866.871\n",
      "Date:                   Sun, 03 Nov 2024   AIC                          -1727.742\n",
      "Time:                           21:20:46   BIC                          -1716.936\n",
      "Sample:                                0   HQIC                         -1723.403\n",
      "                                   - 271                                         \n",
      "Covariance Type:                     opg                                         \n",
      "==============================================================================\n",
      "                 coef    std err          z      P>|z|      [0.025      0.975]\n",
      "------------------------------------------------------------------------------\n",
      "const        2.89e-05      0.000      0.059      0.953      -0.001       0.001\n",
      "ar.L1         -0.2580      0.053     -4.891      0.000      -0.361      -0.155\n",
      "sigma2      9.751e-05   6.53e-06     14.930      0.000    8.47e-05       0.000\n",
      "===================================================================================\n",
      "Ljung-Box (L1) (Q):                   0.00   Jarque-Bera (JB):                31.71\n",
      "Prob(Q):                              0.96   Prob(JB):                         0.00\n",
      "Heteroskedasticity (H):               0.87   Skew:                             0.35\n",
      "Prob(H) (two-sided):                  0.49   Kurtosis:                         4.52\n",
      "===================================================================================\n",
      "\n",
      "Warnings:\n",
      "[1] Covariance matrix calculated using the outer product of gradients (complex-step).\n"
     ]
    }
   ],
   "source": [
    "model_log_st = ARIMA(df['Logarytm stopy zwrotu'], order=(1, 0, 0)).fit()\n",
    "print(model_log_st.summary())"
   ]
  },
  {
   "cell_type": "code",
   "execution_count": 653,
   "metadata": {
    "colab": {
     "base_uri": "https://localhost:8080/"
    },
    "id": "R2BbBfPjuQN6",
    "outputId": "8379f35c-d051-492b-899f-0c2a70989f84"
   },
   "outputs": [
    {
     "name": "stdout",
     "output_type": "stream",
     "text": [
      "                               SARIMAX Results                                \n",
      "==============================================================================\n",
      "Dep. Variable:          Logarytm ceny   No. Observations:                  271\n",
      "Model:                 ARIMA(1, 1, 0)   Log Likelihood                 863.382\n",
      "Date:                Sun, 03 Nov 2024   AIC                          -1722.765\n",
      "Time:                        21:20:46   BIC                          -1715.568\n",
      "Sample:                             0   HQIC                         -1719.875\n",
      "                                - 271                                         \n",
      "Covariance Type:                  opg                                         \n",
      "==============================================================================\n",
      "                 coef    std err          z      P>|z|      [0.025      0.975]\n",
      "------------------------------------------------------------------------------\n",
      "ar.L1         -0.2591      0.053     -4.932      0.000      -0.362      -0.156\n",
      "sigma2       9.77e-05   6.46e-06     15.117      0.000     8.5e-05       0.000\n",
      "===================================================================================\n",
      "Ljung-Box (L1) (Q):                   0.00   Jarque-Bera (JB):                31.71\n",
      "Prob(Q):                              0.96   Prob(JB):                         0.00\n",
      "Heteroskedasticity (H):               0.87   Skew:                             0.36\n",
      "Prob(H) (two-sided):                  0.50   Kurtosis:                         4.52\n",
      "===================================================================================\n",
      "\n",
      "Warnings:\n",
      "[1] Covariance matrix calculated using the outer product of gradients (complex-step).\n"
     ]
    }
   ],
   "source": [
    "model_log = ARIMA(df['Logarytm ceny'], order=(1, 1, 0)).fit()\n",
    "print(model_log.summary())"
   ]
  },
  {
   "cell_type": "code",
   "execution_count": 654,
   "metadata": {},
   "outputs": [
    {
     "name": "stdout",
     "output_type": "stream",
     "text": [
      "Ljung-Box test for autocorrelation in residuals:\n",
      "     lb_stat  lb_pvalue\n",
      "1   0.000618   0.980167\n",
      "2   0.001254   0.999373\n",
      "3   0.009900   0.999739\n",
      "4   0.010128   0.999987\n",
      "5   0.025562   0.999994\n",
      "6   0.028327   1.000000\n",
      "7   0.028332   1.000000\n",
      "8   0.029447   1.000000\n",
      "9   0.031334   1.000000\n",
      "10  0.031346   1.000000\n",
      "11  0.032311   1.000000\n",
      "12  0.037653   1.000000\n",
      "13  0.041693   1.000000\n",
      "14  0.042306   1.000000\n",
      "15  0.047757   1.000000\n",
      "16  0.052338   1.000000\n",
      "17  0.069250   1.000000\n",
      "18  0.071725   1.000000\n",
      "19  0.071780   1.000000\n",
      "20  0.076088   1.000000\n"
     ]
    }
   ],
   "source": [
    "from statsmodels.stats.diagnostic import acorr_ljungbox\n",
    "\n",
    "lb_test = acorr_ljungbox(model_log.resid, lags=20)\n",
    "print(\"Ljung-Box test for autocorrelation in residuals:\")\n",
    "print(lb_test)"
   ]
  },
  {
   "cell_type": "markdown",
   "metadata": {},
   "source": [
    "Jeśli p-value jest > 0.05 to nie ma podstaw do odrzucania H0, oznacza to, że nie ma istotnej autokorelacji w resztach dla badanych opóźnień co sugeruje, że model jest prawidłowy."
   ]
  },
  {
   "cell_type": "code",
   "execution_count": 655,
   "metadata": {},
   "outputs": [
    {
     "name": "stdout",
     "output_type": "stream",
     "text": [
      "Jarque-Bera test for normality of residuals:\n",
      "SignificanceResult(statistic=803460.2028333963, pvalue=0.0)\n"
     ]
    }
   ],
   "source": [
    "from scipy.stats import jarque_bera\n",
    "\n",
    "jb_test = jarque_bera(model_log.resid)\n",
    "print(\"Jarque-Bera test for normality of residuals:\")\n",
    "print(jb_test)"
   ]
  },
  {
   "cell_type": "markdown",
   "metadata": {},
   "source": [
    "p-value < 0.05 co oznacza, że odrzucamy H0 mówiące o normalności rozkładu reszt."
   ]
  },
  {
   "cell_type": "markdown",
   "metadata": {
    "id": "1njkxXI_5qqb"
   },
   "source": [
    "# 3. Wyznaczanie prognoz"
   ]
  },
  {
   "cell_type": "code",
   "execution_count": 656,
   "metadata": {
    "colab": {
     "base_uri": "https://localhost:8080/"
    },
    "id": "QZSUaRjgyOs1",
    "outputId": "52ec2a76-4bc4-4b0c-b9d5-bd2fa8861e2a"
   },
   "outputs": [
    {
     "name": "stdout",
     "output_type": "stream",
     "text": [
      "     lower Logarytm stopy zwrotu  upper Logarytm stopy zwrotu  Point Forecast  \\\n",
      "271                    -0.018071                     0.020637        0.001283   \n",
      "272                    -0.020283                     0.019693       -0.000295   \n",
      "273                    -0.019917                     0.020142        0.000112   \n",
      "274                    -0.020025                     0.020039        0.000007   \n",
      "\n",
      "     Lower Bound  Upper Bound  \n",
      "271    -0.018071     0.020637  \n",
      "272    -0.020283     0.019693  \n",
      "273    -0.019917     0.020142  \n",
      "274    -0.020025     0.020039  \n"
     ]
    }
   ],
   "source": [
    "# Prognozowanie ARMA logarytmicznych stóp zwrotu\n",
    "forecast_arima = model_log_st.get_forecast(steps=4)\n",
    "forecast_arima_df = forecast_arima.conf_int(alpha=0.05)\n",
    "forecast_arima_df['Point Forecast'] = forecast_arima.predicted_mean\n",
    "forecast_arima_df['Lower Bound'] = forecast_arima_df.iloc[:, 0]\n",
    "forecast_arima_df['Upper Bound'] = forecast_arima_df.iloc[:, 1]\n",
    "print(forecast_arima_df)"
   ]
  },
  {
   "cell_type": "code",
   "execution_count": 657,
   "metadata": {
    "colab": {
     "base_uri": "https://localhost:8080/"
    },
    "id": "VET0dZlLywXi",
    "outputId": "c1876ded-f570-4d80-8506-1ff8aeb86401"
   },
   "outputs": [
    {
     "name": "stdout",
     "output_type": "stream",
     "text": [
      "   lower Logarytm ceny  upper Logarytm ceny  Point Forecast  Lower Bound  \\\n",
      "0             3.345721             3.384467        3.365094     3.345721   \n",
      "1             3.340659             3.388880        3.364769     3.340659   \n",
      "2             3.336107             3.393600        3.364854     3.336107   \n",
      "3             3.332260             3.397404        3.364832     3.332260   \n",
      "\n",
      "   Upper Bound  \n",
      "0     3.384467  \n",
      "1     3.388880  \n",
      "2     3.393600  \n",
      "3     3.397404  \n"
     ]
    }
   ],
   "source": [
    "# Prognozowanie ARIMA cen logarytmicznych\n",
    "forecast_arima_log_prices = model_log.get_forecast(steps=4)\n",
    "forecast_arima_log_prices_df = forecast_arima_log_prices.conf_int(alpha=0.05)\n",
    "forecast_arima_log_prices_df['Point Forecast'] = forecast_arima_log_prices.predicted_mean\n",
    "forecast_arima_log_prices_df['Lower Bound'] = forecast_arima_log_prices_df.iloc[:, 0]\n",
    "forecast_arima_log_prices_df['Upper Bound'] = forecast_arima_log_prices_df.iloc[:, 1]\n",
    "forecast_arima_log_prices_df = forecast_arima_log_prices_df.reset_index(drop=True)\n",
    "forecast_arima_log_prices.predicted_mean = forecast_arima_log_prices.predicted_mean.reset_index(drop=True)\n",
    "print(forecast_arima_log_prices_df)"
   ]
  },
  {
   "cell_type": "code",
   "execution_count": 658,
   "metadata": {
    "colab": {
     "base_uri": "https://localhost:8080/"
    },
    "id": "1MCxb8PdzESJ",
    "outputId": "43e0eebd-7c7b-438f-80fa-08aab83472fe"
   },
   "outputs": [
    {
     "name": "stdout",
     "output_type": "stream",
     "text": [
      "1.959963984540054\n",
      "[0.009884437630710119, 0.012301501092994768, 0.014666785040655984, 0.016618782999853927]\n"
     ]
    }
   ],
   "source": [
    "alpha = 0.05\n",
    "u = forecast_arima_log_prices.predicted_mean\n",
    "u_alpha = scipy.stats.norm.ppf(1 - alpha/2)\n",
    "print(u_alpha)\n",
    "\n",
    "sd1 = ((forecast_arima_log_prices.predicted_mean[0]-forecast_arima_log_prices_df[\"Lower Bound\"][0])/u_alpha)\n",
    "sd2 = ((forecast_arima_log_prices.predicted_mean[1]-forecast_arima_log_prices_df[\"Lower Bound\"][1])/u_alpha)\n",
    "sd3 = ((forecast_arima_log_prices.predicted_mean[2]-forecast_arima_log_prices_df[\"Lower Bound\"][2])/u_alpha)\n",
    "sd4 = ((forecast_arima_log_prices.predicted_mean[3]-forecast_arima_log_prices_df[\"Lower Bound\"][3])/u_alpha)\n",
    "\n",
    "sd = [sd1,sd2,sd3,sd4]\n",
    "print(sd)"
   ]
  },
  {
   "cell_type": "code",
   "execution_count": 659,
   "metadata": {
    "colab": {
     "base_uri": "https://localhost:8080/"
    },
    "id": "zYybzRuxufAt",
    "outputId": "088dba19-c365-4823-a8d0-be0c6fb67173"
   },
   "outputs": [
    {
     "name": "stdout",
     "output_type": "stream",
     "text": [
      "[28.93762952502089, 28.929015040447545, 28.932371004645923, 28.932623834897342]\n"
     ]
    }
   ],
   "source": [
    "forecast_prices = [np.exp(u[0] + (sd[0]**2)/2), np.exp(u[1] + (sd[1]**2)/2), np.exp(u[2] + (sd[2]**2)/2), np.exp(u[3] + (sd[3]**2)/2)]\n",
    "print(forecast_prices)\n"
   ]
  },
  {
   "cell_type": "code",
   "execution_count": 660,
   "metadata": {
    "colab": {
     "base_uri": "https://localhost:8080/"
    },
    "id": "oWZ5UFHZu7CH",
    "outputId": "3f6fbce3-87f8-49c6-9de1-04a424c7a5dc"
   },
   "outputs": [
    {
     "name": "stdout",
     "output_type": "stream",
     "text": [
      "95% przedział ufności dla prognozowanych cen:\n",
      "Dzień 1: 28.3810 - 29.5023\n",
      "Dzień 2: 28.2377 - 29.6327\n",
      "Dzień 3: 28.1095 - 29.7729\n",
      "Dzień 4: 28.0015 - 29.8864\n"
     ]
    }
   ],
   "source": [
    "lower_bound = [np.exp(forecast_arima_log_prices_df['Lower Bound'][i]) for i in range(0,4)]\n",
    "upper_bound = [np.exp(forecast_arima_log_prices_df['Upper Bound'][i]) for i in range(0,4)]\n",
    "\n",
    "print(\"95% przedział ufności dla prognozowanych cen:\")\n",
    "for i in range(4):\n",
    "  print(f\"Dzień {i+1}: {lower_bound[i]:.4f} - {upper_bound[i]:.4f}\")"
   ]
  },
  {
   "cell_type": "code",
   "execution_count": 661,
   "metadata": {},
   "outputs": [
    {
     "data": {
      "text/html": [
       "<div>\n",
       "<style scoped>\n",
       "    .dataframe tbody tr th:only-of-type {\n",
       "        vertical-align: middle;\n",
       "    }\n",
       "\n",
       "    .dataframe tbody tr th {\n",
       "        vertical-align: top;\n",
       "    }\n",
       "\n",
       "    .dataframe thead th {\n",
       "        text-align: right;\n",
       "    }\n",
       "</style>\n",
       "<table border=\"1\" class=\"dataframe\">\n",
       "  <thead>\n",
       "    <tr style=\"text-align: right;\">\n",
       "      <th></th>\n",
       "      <th>Forecast</th>\n",
       "      <th>Lower Bound</th>\n",
       "      <th>Upper Bound</th>\n",
       "    </tr>\n",
       "  </thead>\n",
       "  <tbody>\n",
       "    <tr>\n",
       "      <th>0</th>\n",
       "      <td>28.937630</td>\n",
       "      <td>28.381026</td>\n",
       "      <td>29.502267</td>\n",
       "    </tr>\n",
       "    <tr>\n",
       "      <th>1</th>\n",
       "      <td>28.929015</td>\n",
       "      <td>28.237727</td>\n",
       "      <td>29.632742</td>\n",
       "    </tr>\n",
       "    <tr>\n",
       "      <th>2</th>\n",
       "      <td>28.932371</td>\n",
       "      <td>28.109487</td>\n",
       "      <td>29.772939</td>\n",
       "    </tr>\n",
       "    <tr>\n",
       "      <th>3</th>\n",
       "      <td>28.932624</td>\n",
       "      <td>28.001540</td>\n",
       "      <td>29.886412</td>\n",
       "    </tr>\n",
       "  </tbody>\n",
       "</table>\n",
       "</div>"
      ],
      "text/plain": [
       "    Forecast  Lower Bound  Upper Bound\n",
       "0  28.937630    28.381026    29.502267\n",
       "1  28.929015    28.237727    29.632742\n",
       "2  28.932371    28.109487    29.772939\n",
       "3  28.932624    28.001540    29.886412"
      ]
     },
     "execution_count": 661,
     "metadata": {},
     "output_type": "execute_result"
    }
   ],
   "source": [
    "# Create a DataFrame\n",
    "confidence_intervals_df = pd.DataFrame({\n",
    "    'Forecast': forecast_prices,\n",
    "    'Lower Bound': lower_bound,\n",
    "    'Upper Bound': upper_bound\n",
    "})\n",
    "\n",
    "confidence_intervals_df"
   ]
  },
  {
   "cell_type": "code",
   "execution_count": 662,
   "metadata": {},
   "outputs": [
    {
     "data": {
      "image/png": "[encoded data removed]",
      "text/plain": [
       "<Figure size 1200x600 with 1 Axes>"
      ]
     },
     "metadata": {},
     "output_type": "display_data"
    }
   ],
   "source": [
    "plot_price_prediction(confidence_intervals_df['Forecast'],confidence_intervals_df['Upper Bound'],confidence_intervals_df['Lower Bound'], 'ARiMA Price Prediction')"
   ]
  },
  {
   "cell_type": "code",
   "execution_count": 663,
   "metadata": {
    "colab": {
     "base_uri": "https://localhost:8080/"
    },
    "id": "0t5JbBDqeKTv",
    "outputId": "9caa491e-f15b-4840-80a6-118f51bed63c"
   },
   "outputs": [
    {
     "name": "stdout",
     "output_type": "stream",
     "text": [
      "Mean Absolute Error (MAE): 0.2890950887424806\n",
      "Mean Squared Error (MSE): 0.11605890854854788\n",
      "Root Mean Squared Error (RMSE): 0.340674197068912\n"
     ]
    }
   ],
   "source": [
    "real_values = pd.read_excel(\"mol_d_pazdziernik_stopy.xlsx\")\n",
    "forecast_errors = [forecast_prices[i] - real_values[\"Zamkniecie\"][i] for i in range(len(real_values))]\n",
    "\n",
    "mae = np.mean(np.abs(forecast_errors))\n",
    "mse = np.mean(np.square(forecast_errors))\n",
    "rmse = np.sqrt(mse)\n",
    "\n",
    "print(f\"Mean Absolute Error (MAE): {mae}\")\n",
    "print(f\"Mean Squared Error (MSE): {mse}\")\n",
    "print(f\"Root Mean Squared Error (RMSE): {rmse}\")"
   ]
  },
  {
   "cell_type": "markdown",
   "metadata": {
    "id": "H1Lzh4LhzY-A"
   },
   "source": [
    "# 4. Monte Carlo"
   ]
  },
  {
   "cell_type": "code",
   "execution_count": 664,
   "metadata": {
    "colab": {
     "base_uri": "https://localhost:8080/"
    },
    "id": "2HBDtSOwKj_H",
    "outputId": "2d74078d-cad4-4f59-c906-cbd546d81b30"
   },
   "outputs": [
    {
     "name": "stdout",
     "output_type": "stream",
     "text": [
      "   Point Forecast  Lower Bound  Upper Bound\n",
      "0        3.365094     3.348891     3.391290\n",
      "1        3.364769     3.348999     3.382376\n",
      "2        3.364854     3.345680     3.394607\n",
      "3        3.364832     3.348629     3.391027\n"
     ]
    }
   ],
   "source": [
    "model_log = ARIMA(df['Logarytm ceny'], order=(1, 1, 0)).fit()\n",
    "residuals = model_log.resid\n",
    "steps = 4  \n",
    "n_simulations = 1000  \n",
    "np.random.seed(42)\n",
    "\n",
    "\n",
    "forecast_results = []\n",
    "current_data = df['Logarytm ceny'].copy()\n",
    "\n",
    "for step in range(steps):\n",
    "\n",
    "    model_log = ARIMA(current_data, order=(1, 1, 0)).fit()\n",
    "\n",
    "    forecast = model_log.get_forecast(steps=1)\n",
    "    point_forecast = forecast.predicted_mean.iloc[0]\n",
    "\n",
    "    simulated_forecasts = np.zeros(n_simulations)\n",
    "\n",
    "    for i in range(n_simulations):\n",
    "        simulated_forecasts[i] = point_forecast + np.random.choice(residuals)\n",
    "\n",
    "    lower_bound = np.percentile(simulated_forecasts, 2.5)\n",
    "    upper_bound = np.percentile(simulated_forecasts, 97.5)\n",
    "\n",
    "    forecast_results.append({\n",
    "        'Point Forecast': point_forecast,\n",
    "        'Lower Bound': lower_bound,\n",
    "        'Upper Bound': upper_bound\n",
    "    })\n",
    "\n",
    "    current_data = pd.concat([current_data, pd.Series([point_forecast])], ignore_index=True)\n",
    "\n",
    "forecast_monte_carlo_df = pd.DataFrame(forecast_results)\n",
    "print(forecast_monte_carlo_df)"
   ]
  },
  {
   "cell_type": "code",
   "execution_count": 665,
   "metadata": {},
   "outputs": [
    {
     "name": "stdout",
     "output_type": "stream",
     "text": [
      "   Point Forecast  Lower Bound  Upper Bound\n",
      "0       28.937205    28.471137    29.704233\n",
      "1       28.927763    28.474211    29.440634\n",
      "2       28.930644    28.379878    29.802945\n",
      "3       28.929617    28.463672    29.696444\n"
     ]
    }
   ],
   "source": [
    "sd_AG = (forecast_monte_carlo_df['Point Forecast'] - forecast_monte_carlo_df['Lower Bound']) / u_alpha\n",
    "forecast_monte_carlo_AG_prices = np.exp(forecast_monte_carlo_df['Point Forecast'] + 0.5 * sd_AG**2)\n",
    "forecast_monte_carlo_AG_prices_df = pd.DataFrame(forecast_monte_carlo_AG_prices, columns=['Point Forecast'])\n",
    "forecast_monte_carlo_AG_prices_df[['Lower Bound', 'Upper Bound']] = np.exp(forecast_monte_carlo_df[['Lower Bound', 'Upper Bound']])\n",
    "forecast_monte_carlo_AG_prices_df = forecast_monte_carlo_AG_prices_df.reset_index(drop=True)\n",
    "print(forecast_monte_carlo_AG_prices_df)"
   ]
  },
  {
   "cell_type": "code",
   "execution_count": null,
   "metadata": {
    "colab": {
     "base_uri": "https://localhost:8080/"
    },
    "id": "1VHyOzKbOelO",
    "outputId": "95b0bd5c-afdb-451d-8398-bad45e9c9990"
   },
   "outputs": [
    {
     "name": "stdout",
     "output_type": "stream",
     "text": [
      "    Forecast  Lower Bound  Upper Bound\n",
      "0  28.937205    28.381026    29.502267\n",
      "1  28.927763    28.237727    29.632742\n",
      "2  28.930644    28.109487    29.772939\n",
      "3  28.929617    28.001540    29.886412\n"
     ]
    }
   ],
   "source": [
    "# np.random.seed(42)\n",
    "# monte_carlo_log_prices = forecast_monte_carlo_df['Point Forecast']\n",
    "# monte_carlo_log_prices\n",
    "# sd_mc1 = (monte_carlo_log_prices - forecast_monte_carlo_df['Lower Bound']) / u_alpha\n",
    "# forecast_arima_prices = np.exp(monte_carlo_log_prices + 0.5 * sd_mc1**2)\n",
    "# forecast_arima_prices_df = pd.DataFrame(forecast_arima_prices, columns=['Forecast'])\n",
    "# forecast_arima_prices_df[['Lower Bound', 'Upper Bound']] = np.exp(forecast_arima_log_prices_df[['Lower Bound', 'Upper Bound']])\n",
    "# print(forecast_arima_prices_df)"
   ]
  },
  {
   "cell_type": "code",
   "execution_count": 619,
   "metadata": {},
   "outputs": [
    {
     "data": {
      "image/png": "[encoded data removed]",
      "text/plain": [
       "<Figure size 1200x600 with 1 Axes>"
      ]
     },
     "metadata": {},
     "output_type": "display_data"
    }
   ],
   "source": [
    "plot_price_prediction(forecast_monte_carlo_AG_prices_df['Point Forecast'],forecast_monte_carlo_AG_prices_df['Upper Bound'],forecast_monte_carlo_AG_prices_df['Lower Bound'], 'Monte Carlo Price Prediction')"
   ]
  },
  {
   "cell_type": "code",
   "execution_count": null,
   "metadata": {
    "colab": {
     "base_uri": "https://localhost:8080/"
    },
    "id": "FbqE0s11c4Yt",
    "outputId": "56b8377f-88f4-4b23-8ead-ff982791fe53"
   },
   "outputs": [
    {
     "name": "stdout",
     "output_type": "stream",
     "text": [
      "Mean Absolute Error (MAE): 0.288249616035257\n",
      "Mean Squared Error (MSE): 0.11571829494357544\n",
      "Root Mean Squared Error (RMSE): 0.3401739186703993\n"
     ]
    }
   ],
   "source": [
    "forecast_errors = [forecast_monte_carlo_AG_prices_df['Forecast'][i] - real_values[\"Zamkniecie\"][i] for i in range(len(real_values))]\n",
    "\n",
    "mae = np.mean(np.abs(forecast_errors))\n",
    "\n",
    "mse = np.mean(np.square(forecast_errors))\n",
    "\n",
    "rmse = np.sqrt(mse)\n",
    "\n",
    "print(f\"Mean Absolute Error (MAE): {mae}\")\n",
    "print(f\"Mean Squared Error (MSE): {mse}\")\n",
    "print(f\"Root Mean Squared Error (RMSE): {rmse}\")"
   ]
  },
  {
   "cell_type": "markdown",
   "metadata": {
    "id": "3HIeHXCI2qp5"
   },
   "source": [
    "# 5. Bootstrap\n"
   ]
  },
  {
   "cell_type": "code",
   "execution_count": 621,
   "metadata": {
    "colab": {
     "base_uri": "https://localhost:8080/"
    },
    "id": "sXh1lS522zeu",
    "outputId": "02e3b9e8-3a34-4796-acdb-e768fd5a4c33"
   },
   "outputs": [
    {
     "name": "stdout",
     "output_type": "stream",
     "text": [
      "   Point Forecast  Lower Bound  Upper Bound\n",
      "0        3.365094     3.348891     3.391290\n",
      "1        3.364769     3.348999     3.382376\n",
      "2        3.364854     3.345680     3.394607\n",
      "3        3.364832     3.348629     3.391027\n"
     ]
    }
   ],
   "source": [
    "np.random.seed(42)\n",
    "\n",
    "forecast_results = []\n",
    "current_data = df['Logarytm ceny'].copy()\n",
    "\n",
    "for step in range(steps):\n",
    "    model_log = ARIMA(current_data, order=(1, 1, 0)).fit()\n",
    "\n",
    "    forecast = model_log.get_forecast(steps=1)\n",
    "    point_forecast = forecast.predicted_mean.iloc[0]\n",
    "\n",
    "    simulated_forecasts = np.zeros(n_simulations)\n",
    "\n",
    "    for i in range(n_simulations):\n",
    "        bootstrap_residual = np.random.choice(residuals, replace=True)\n",
    "        simulated_forecasts[i] = point_forecast + bootstrap_residual\n",
    "\n",
    "    lower_bound = np.percentile(simulated_forecasts, 2.5)\n",
    "    upper_bound = np.percentile(simulated_forecasts, 97.5)\n",
    "\n",
    "    forecast_results.append({\n",
    "        'Point Forecast': point_forecast,\n",
    "        'Lower Bound': lower_bound,\n",
    "        'Upper Bound': upper_bound\n",
    "    })\n",
    "\n",
    "    current_data = pd.concat([current_data, pd.Series([point_forecast])], ignore_index=True)\n",
    "\n",
    "forecast_bootstrap_df = pd.DataFrame(forecast_results)\n",
    "print(forecast_bootstrap_df)"
   ]
  },
  {
   "cell_type": "code",
   "execution_count": 622,
   "metadata": {
    "colab": {
     "base_uri": "https://localhost:8080/"
    },
    "id": "XAlNIlTPfw_-",
    "outputId": "a211f07d-ad17-4b62-d7c9-d0479c1170f0"
   },
   "outputs": [
    {
     "name": "stdout",
     "output_type": "stream",
     "text": [
      "    Forecast  Lower Bound  Upper Bound\n",
      "0  28.938801    28.471137    29.704233\n",
      "1  28.927993    28.474211    29.440634\n",
      "2  28.932593    28.379878    29.802945\n",
      "3  28.931213    28.463672    29.696444\n"
     ]
    }
   ],
   "source": [
    "sd_mc1 = (forecast_bootstrap_df['Upper Bound'] - forecast_bootstrap_df['Point Forecast']) / u_alpha\n",
    "\n",
    "forecast_arima_prices = np.exp(forecast_bootstrap_df['Point Forecast'] + 0.5 * sd_mc1**2)\n",
    "\n",
    "forecast_arima_prices_df = pd.DataFrame({\n",
    "    'Forecast': forecast_arima_prices,\n",
    "    'Lower Bound': np.exp(forecast_bootstrap_df['Lower Bound']),\n",
    "    'Upper Bound': np.exp(forecast_bootstrap_df['Upper Bound'])\n",
    "})\n",
    "\n",
    "print(forecast_arima_prices_df)"
   ]
  },
  {
   "cell_type": "code",
   "execution_count": 623,
   "metadata": {},
   "outputs": [
    {
     "data": {
      "image/png": "[encoded data removed]",
      "text/plain": [
       "<Figure size 1200x600 with 1 Axes>"
      ]
     },
     "metadata": {},
     "output_type": "display_data"
    }
   ],
   "source": [
    "plot_price_prediction(forecast_arima_prices_df['Forecast'],forecast_arima_prices_df['Upper Bound'],forecast_arima_prices_df['Lower Bound'], 'Bootstrap Price Prediction')"
   ]
  },
  {
   "cell_type": "code",
   "execution_count": 624,
   "metadata": {
    "colab": {
     "base_uri": "https://localhost:8080/"
    },
    "id": "-rt6SDnFeLfk",
    "outputId": "a12164ae-4b68-4a44-835a-73838f0d1678"
   },
   "outputs": [
    {
     "name": "stdout",
     "output_type": "stream",
     "text": [
      "Mean Absolute Error (MAE): 0.288249616035257\n",
      "Mean Squared Error (MSE): 0.11571829494357544\n",
      "Root Mean Squared Error (RMSE): 0.3401739186703993\n"
     ]
    }
   ],
   "source": [
    "forecast_errors = [forecast_arima_prices_df['Forecast'][i] - real_values[\"Zamkniecie\"][i] for i in range(len(real_values))]\n",
    "\n",
    "mae = np.mean(np.abs(forecast_errors))\n",
    "\n",
    "mse = np.mean(np.square(forecast_errors))\n",
    "\n",
    "rmse = np.sqrt(mse)\n",
    "\n",
    "print(f\"Mean Absolute Error (MAE): {mae}\")\n",
    "print(f\"Mean Squared Error (MSE): {mse}\")\n",
    "print(f\"Root Mean Squared Error (RMSE): {rmse}\")"
   ]
  },
  {
   "cell_type": "markdown",
   "metadata": {
    "id": "3ShB_dJE3-c7"
   },
   "source": [
    "# 6. Garch"
   ]
  },
  {
   "cell_type": "code",
   "execution_count": 625,
   "metadata": {
    "colab": {
     "base_uri": "https://localhost:8080/"
    },
    "id": "WHWx_uFgg9Wb",
    "outputId": "234f0744-3f27-4f0a-f096-6fa0a9bb2901"
   },
   "outputs": [
    {
     "name": "stdout",
     "output_type": "stream",
     "text": [
      "ARIMA-GARCH Forecasts for the next 4 periods:\n",
      "     Forecast  Lower Bound  Upper Bound\n",
      "271  0.001637    -0.016622     0.019896\n",
      "272  0.000059    -0.018730     0.018848\n",
      "273  0.000466    -0.018598     0.019530\n",
      "274  0.000361    -0.018847     0.019568\n"
     ]
    }
   ],
   "source": [
    "\n",
    "residuals_st = model_log_st.resid\n",
    "\n",
    "# ARMA(1,0,0)-GARCH(1,1) model\n",
    "model_arma_garch = arch_model(residuals_st, vol='Garch', p=1, q=1)\n",
    "results_garch = model_arma_garch.fit(disp='off')\n",
    "\n",
    "arima_forecast = model_log_st.forecast(steps=4)\n",
    "garch_forecast = results_garch.forecast(horizon=4)\n",
    "\n",
    "forecast_values = arima_forecast + garch_forecast.mean.values[-1, :]\n",
    "\n",
    "std_dev = np.sqrt(garch_forecast.variance.values[-1, :])\n",
    "\n",
    "ci_lower = forecast_values - 1.96 * std_dev  \n",
    "ci_upper = forecast_values + 1.96 * std_dev  \n",
    "\n",
    "forecast_values_df = pd.DataFrame({\n",
    "    'Forecast': forecast_values,\n",
    "    'Lower Bound': ci_lower,\n",
    "    'Upper Bound': ci_upper\n",
    "})\n",
    "\n",
    "print(\"ARIMA-GARCH Forecasts for the next 4 periods:\")\n",
    "print(forecast_values_df)"
   ]
  },
  {
   "cell_type": "code",
   "execution_count": 626,
   "metadata": {
    "colab": {
     "base_uri": "https://localhost:8080/"
    },
    "id": "HaEX01Ed7Nx2",
    "outputId": "fbe6db2c-1aed-46d2-da42-bc87ba944ab1"
   },
   "outputs": [
    {
     "name": "stdout",
     "output_type": "stream",
     "text": [
      "     Forecast  Lower Bound  Upper Bound\n",
      "274  3.365932     3.349001     3.382863\n",
      "275  3.365938     3.344560     3.387316\n",
      "276  3.365936     3.341960     3.389912\n",
      "277  3.365937     3.340317     3.391556\n"
     ]
    }
   ],
   "source": [
    "# ARIMA(1,1,0)-GARCH(1,1) model\n",
    "model_arima_garch = arch_model(residuals, vol='Garch', p=1, q=1)\n",
    "results_garch_1 = model_arima_garch.fit(disp='off')\n",
    "\n",
    "\n",
    "arima_forecast_1 = model_log.forecast(steps=4)\n",
    "garch_forecast_1 = results_garch_1.forecast(horizon=4)\n",
    "\n",
    "# Łączenie prognoz ARIMA i GARCH \n",
    "forecast_values_1 = arima_forecast_1 + garch_forecast_1.mean.values[-1, :]\n",
    "\n",
    "std_dev = np.sqrt(garch_forecast_1.variance.values[-1, :])\n",
    "\n",
    "ci_lower = forecast_values_1 - 1.96 * std_dev  \n",
    "ci_upper = forecast_values_1 + 1.96 * std_dev  \n",
    "\n",
    "forecast_values_1_df = pd.DataFrame({\n",
    "    'Forecast': forecast_values_1,\n",
    "    'Lower Bound': ci_lower,\n",
    "    'Upper Bound': ci_upper\n",
    "})\n",
    "\n",
    "print(forecast_values_1_df)"
   ]
  },
  {
   "cell_type": "code",
   "execution_count": 627,
   "metadata": {
    "colab": {
     "base_uri": "https://localhost:8080/"
    },
    "id": "Rva-UE6W3ATX",
    "outputId": "48f19e80-3eae-4175-8a1e-bcfd72a03904"
   },
   "outputs": [
    {
     "name": "stdout",
     "output_type": "stream",
     "text": [
      "    Forecast  Lower Bound  Upper Bound\n",
      "0  28.961562    28.474283    29.454981\n",
      "1  28.962368    28.348103    29.586423\n",
      "2  28.962770    28.274503    29.663351\n",
      "3  28.963088    28.228083    29.712154\n"
     ]
    }
   ],
   "source": [
    "sd_AG = (forecast_values_1_df['Forecast'] - forecast_values_1_df['Lower Bound']) / u_alpha\n",
    "forecast_AG_prices = np.exp(forecast_values_1_df['Forecast'] + 0.5 * sd_AG**2)\n",
    "forecast_AG_prices_df = pd.DataFrame(forecast_AG_prices, columns=['Forecast'])\n",
    "forecast_AG_prices_df[['Lower Bound', 'Upper Bound']] = np.exp(forecast_values_1_df[['Lower Bound', 'Upper Bound']])\n",
    "forecast_AG_prices_df = forecast_AG_prices_df.reset_index(drop=True)\n",
    "print(forecast_AG_prices_df)"
   ]
  },
  {
   "cell_type": "code",
   "execution_count": 628,
   "metadata": {},
   "outputs": [
    {
     "data": {
      "image/png": "[encoded data removed]",
      "text/plain": [
       "<Figure size 1200x600 with 1 Axes>"
      ]
     },
     "metadata": {},
     "output_type": "display_data"
    }
   ],
   "source": [
    "plot_price_prediction(forecast_AG_prices_df['Forecast'],forecast_AG_prices_df['Upper Bound'],forecast_AG_prices_df['Lower Bound'], 'ARiMA Garch Price Prediction')"
   ]
  },
  {
   "cell_type": "code",
   "execution_count": 629,
   "metadata": {
    "colab": {
     "base_uri": "https://localhost:8080/"
    },
    "id": "0tnw-XBftx7K",
    "outputId": "4b09d1eb-85e1-4e46-f188-47acb040c7aa"
   },
   "outputs": [
    {
     "name": "stdout",
     "output_type": "stream",
     "text": [
      "Mean Absolute Error (MAE): 0.317446792041018\n",
      "Mean Squared Error (MSE): 0.1350096289045037\n",
      "Root Mean Squared Error (RMSE): 0.36743656446317874\n"
     ]
    }
   ],
   "source": [
    "forecast_errors_AG = [forecast_AG_prices_df['Forecast'][i] - real_values[\"Zamkniecie\"][i] for i in range(len(real_values))]\n",
    "\n",
    "mae = np.mean(np.abs(forecast_errors_AG))\n",
    "mse = np.mean(np.square(forecast_errors_AG))\n",
    "rmse = np.sqrt(mse)\n",
    "\n",
    "print(f\"Mean Absolute Error (MAE): {mae}\")\n",
    "print(f\"Mean Squared Error (MSE): {mse}\")\n",
    "print(f\"Root Mean Squared Error (RMSE): {rmse}\")"
   ]
  },
  {
   "cell_type": "markdown",
   "metadata": {
    "id": "xm2fpUxe3cci"
   },
   "source": [
    "# 6.4 monte carlo "
   ]
  },
  {
   "cell_type": "code",
   "execution_count": 630,
   "metadata": {
    "colab": {
     "base_uri": "https://localhost:8080/"
    },
    "id": "Hodau69a4o3q",
    "outputId": "b453e162-7d51-42d2-850d-bf7dc73e7e47"
   },
   "outputs": [
    {
     "name": "stdout",
     "output_type": "stream",
     "text": [
      "   Point Forecast  Lower Bound  Upper Bound\n",
      "0        3.365094     3.348891     3.391290\n",
      "1        3.364769     3.342092     3.390965\n",
      "2        3.364854     3.349094     3.390731\n",
      "3        3.364832     3.346726     3.388506\n"
     ]
    }
   ],
   "source": [
    "model_log = ARIMA(df['Logarytm ceny'], order=(1, 1, 0)).fit()\n",
    "\n",
    "steps = 4 \n",
    "n_simulations = 1000  \n",
    "\n",
    "residuals = model_log.resid\n",
    "\n",
    "forecast_results = []\n",
    "current_data = df['Logarytm ceny'].copy()\n",
    "\n",
    "for step in range(steps):\n",
    "    model_log = ARIMA(current_data, order=(1, 1, 0)).fit()\n",
    "\n",
    "    forecast = model_log.get_forecast(steps=1)\n",
    "    point_forecast = forecast.predicted_mean.iloc[0]\n",
    "\n",
    "    simulated_forecasts = np.zeros(n_simulations)\n",
    "\n",
    "    for i in range(n_simulations):\n",
    "        simulated_forecasts[i] = point_forecast + np.random.choice(residuals)\n",
    "\n",
    "    lower_bound = np.percentile(simulated_forecasts, 2.5)\n",
    "    upper_bound = np.percentile(simulated_forecasts, 97.5)\n",
    "\n",
    "    forecast_results.append({\n",
    "        'Point Forecast': point_forecast,\n",
    "        'Lower Bound': lower_bound,\n",
    "        'Upper Bound': upper_bound\n",
    "    })\n",
    "\n",
    "    current_data = pd.concat([current_data, pd.Series([point_forecast])], ignore_index=True)\n",
    "\n",
    "forecast_monte_carlo_df = pd.DataFrame(forecast_results)\n",
    "print(forecast_monte_carlo_df)\n",
    "\n"
   ]
  },
  {
   "cell_type": "code",
   "execution_count": 631,
   "metadata": {},
   "outputs": [
    {
     "name": "stdout",
     "output_type": "stream",
     "text": [
      "   Point Forecast  Lower Bound  Upper Bound\n",
      "0       28.937205    28.471137    29.704233\n",
      "1       28.928763    28.278225    29.694594\n",
      "2       28.930194    28.476922    29.687642\n",
      "3       28.929863    28.409554    29.621670\n"
     ]
    }
   ],
   "source": [
    "sd_AG = (forecast_monte_carlo_df['Point Forecast'] - forecast_monte_carlo_df['Lower Bound']) / u_alpha\n",
    "forecast_monte_carlo_AG_prices = np.exp(forecast_monte_carlo_df['Point Forecast'] + 0.5 * sd_AG**2)\n",
    "forecast_monte_carlo_AG_prices_df = pd.DataFrame(forecast_monte_carlo_AG_prices, columns=['Point Forecast'])\n",
    "forecast_monte_carlo_AG_prices_df[['Lower Bound', 'Upper Bound']] = np.exp(forecast_monte_carlo_df[['Lower Bound', 'Upper Bound']])\n",
    "forecast_monte_carlo_AG_prices_df = forecast_monte_carlo_AG_prices_df.reset_index(drop=True)\n",
    "print(forecast_monte_carlo_AG_prices_df)"
   ]
  },
  {
   "cell_type": "code",
   "execution_count": 633,
   "metadata": {},
   "outputs": [
    {
     "data": {
      "image/png": "[encoded data removed]",
      "text/plain": [
       "<Figure size 1200x600 with 1 Axes>"
      ]
     },
     "metadata": {},
     "output_type": "display_data"
    }
   ],
   "source": [
    "plot_price_prediction(forecast_monte_carlo_AG_prices_df['Point Forecast'],forecast_monte_carlo_AG_prices_df['Upper Bound'],forecast_monte_carlo_AG_prices_df['Lower Bound'], 'Monte Carlo Garch Price Prediction')"
   ]
  },
  {
   "cell_type": "code",
   "execution_count": 634,
   "metadata": {
    "colab": {
     "base_uri": "https://localhost:8080/"
    },
    "id": "qgvhWyuv7Rtz",
    "outputId": "735ca1f4-2ed3-47ef-844f-1ddca58416b8"
   },
   "outputs": [
    {
     "name": "stdout",
     "output_type": "stream",
     "text": [
      "Mean Absolute Error (MAE): 0.28790386463062223\n",
      "Mean Squared Error (MSE): 0.11507623131054492\n",
      "Root Mean Squared Error (RMSE): 0.3392288774714572\n"
     ]
    }
   ],
   "source": [
    "forecast_errors = [forecast_monte_carlo_AG_prices_df['Point Forecast'][i] - real_values[\"Zamkniecie\"][i] for i in range(len(real_values))]\n",
    "\n",
    "mae = np.mean(np.abs(forecast_errors))\n",
    "\n",
    "mse = np.mean(np.square(forecast_errors))\n",
    "\n",
    "rmse = np.sqrt(mse)\n",
    "\n",
    "print(f\"Mean Absolute Error (MAE): {mae}\")\n",
    "print(f\"Mean Squared Error (MSE): {mse}\")\n",
    "print(f\"Root Mean Squared Error (RMSE): {rmse}\")"
   ]
  },
  {
   "cell_type": "markdown",
   "metadata": {},
   "source": [
    "# 6.5 Bootstrap\n"
   ]
  },
  {
   "cell_type": "code",
   "execution_count": 635,
   "metadata": {
    "colab": {
     "base_uri": "https://localhost:8080/"
    },
    "id": "21K_pZ2_8gyE",
    "outputId": "1b690f11-12ac-48b2-f8a2-58f7da3da1ef"
   },
   "outputs": [
    {
     "name": "stdout",
     "output_type": "stream",
     "text": [
      "   Point Forecast  Lower Bound  Upper Bound\n",
      "0        3.365094     3.364954     3.365320\n",
      "1        3.364769     3.364064     3.365557\n",
      "2        3.364854     3.363701     3.366642\n",
      "3        3.364832     3.364170     3.365888\n"
     ]
    }
   ],
   "source": [
    "np.random.seed(42)\n",
    "\n",
    "forecast_results = []\n",
    "current_data = df['Logarytm ceny'].copy()\n",
    "\n",
    "for step in range(steps):\n",
    "    model_log = ARIMA(current_data, order=(1, 1, 0)).fit()\n",
    "\n",
    "    forecast = model_log.get_forecast(steps=1)\n",
    "    point_forecast = forecast.predicted_mean.iloc[0]\n",
    "\n",
    "    residuals = model_log.resid\n",
    "    model_garch = arch_model(residuals, vol='Garch', p=1, q=1)\n",
    "    garch_results = model_garch.fit(disp='off')\n",
    "\n",
    "    garch_forecast = garch_results.forecast(horizon=1)\n",
    "    garch_volatility = np.sqrt(garch_forecast.variance.values[-1, :][0])\n",
    "\n",
    "    simulated_forecasts = np.zeros(n_simulations)\n",
    "\n",
    "    for i in range(n_simulations):\n",
    "        bootstrap_residual = np.random.choice(residuals, replace=True) * garch_volatility\n",
    "        simulated_forecasts[i] = point_forecast + bootstrap_residual\n",
    "\n",
    "    lower_bound = np.percentile(simulated_forecasts, 2.5)\n",
    "    upper_bound = np.percentile(simulated_forecasts, 97.5)\n",
    "\n",
    "    forecast_results.append({\n",
    "        'Point Forecast': point_forecast,\n",
    "        'Lower Bound': lower_bound,\n",
    "        'Upper Bound': upper_bound\n",
    "    })\n",
    "\n",
    "    current_data = pd.concat([current_data, pd.Series([point_forecast])], ignore_index=True)\n",
    "\n",
    "forecast_bootstrap_df = pd.DataFrame(forecast_results)\n",
    "print(forecast_bootstrap_df)"
   ]
  },
  {
   "cell_type": "code",
   "execution_count": 636,
   "metadata": {
    "colab": {
     "base_uri": "https://localhost:8080/"
    },
    "id": "VpSV-Jzp9EfO",
    "outputId": "928bad2a-501c-4139-93ae-42ff02b022bd"
   },
   "outputs": [
    {
     "name": "stdout",
     "output_type": "stream",
     "text": [
      "    Forecast  Lower Bound  Upper Bound\n",
      "0  28.936216    28.932166    28.942764\n",
      "1  28.926828    28.906432    28.949611\n",
      "2  28.929264    28.895935    28.981050\n",
      "3  28.928630    28.909501    28.959202\n"
     ]
    }
   ],
   "source": [
    "sd_AG_bs = (forecast_bootstrap_df['Point Forecast'] - forecast_bootstrap_df['Lower Bound']) / u_alpha\n",
    "\n",
    "forecast_AG_bs_prices = np.exp(forecast_bootstrap_df['Point Forecast'] + 0.5 * sd_AG_bs ** 2)\n",
    "forecast_AG_bs_prices_df = pd.DataFrame(forecast_AG_bs_prices, columns=['Forecast'])\n",
    "\n",
    "forecast_AG_bs_prices_df[['Lower Bound', 'Upper Bound']] = np.exp(forecast_bootstrap_df[['Lower Bound', 'Upper Bound']])\n",
    "\n",
    "forecast_AG_bs_prices_df = forecast_AG_bs_prices_df.reset_index(drop=True)\n",
    "\n",
    "print(forecast_AG_bs_prices_df)"
   ]
  },
  {
   "cell_type": "code",
   "execution_count": 637,
   "metadata": {},
   "outputs": [
    {
     "data": {
      "image/png": "[encoded data removed]",
      "text/plain": [
       "<Figure size 1200x600 with 1 Axes>"
      ]
     },
     "metadata": {},
     "output_type": "display_data"
    }
   ],
   "source": [
    "plot_price_prediction(forecast_AG_bs_prices_df['Forecast'],forecast_AG_bs_prices_df['Upper Bound'],forecast_AG_bs_prices_df['Lower Bound'], 'Bootsrap Garch Price Prediction')"
   ]
  },
  {
   "cell_type": "code",
   "execution_count": 638,
   "metadata": {
    "colab": {
     "base_uri": "https://localhost:8080/"
    },
    "id": "5fH_j8G4_Jgq",
    "outputId": "eab625da-82f4-40d4-a62e-9632285be6b3"
   },
   "outputs": [
    {
     "name": "stdout",
     "output_type": "stream",
     "text": [
      "Mean Absolute Error (MAE): 0.28712670204237156\n",
      "Mean Squared Error (MSE): 0.1143160599953649\n",
      "Root Mean Squared Error (RMSE): 0.33810658082232725\n"
     ]
    }
   ],
   "source": [
    "forecast_errors = [forecast_AG_bs_prices_df['Forecast'][i] - real_values[\"Zamkniecie\"][i] for i in range(len(real_values))]\n",
    "\n",
    "mae = np.mean(np.abs(forecast_errors))\n",
    "\n",
    "mse = np.mean(np.square(forecast_errors))\n",
    "\n",
    "rmse = np.sqrt(mse)\n",
    "\n",
    "print(f\"Mean Absolute Error (MAE): {mae}\")\n",
    "print(f\"Mean Squared Error (MSE): {mse}\")\n",
    "print(f\"Root Mean Squared Error (RMSE): {rmse}\")"
   ]
  }
 ],
 "metadata": {
  "colab": {
   "provenance": []
  },
  "kernelspec": {
   "display_name": "Python 3",
   "name": "python3"
  },
  "language_info": {
   "codemirror_mode": {
    "name": "ipython",
    "version": 3
   },
   "file_extension": ".py",
   "mimetype": "text/x-python",
   "name": "python",
   "nbconvert_exporter": "python",
   "pygments_lexer": "ipython3",
   "version": "3.11.1"
  }
 },
 "nbformat": 4,
 "nbformat_minor": 0
}
